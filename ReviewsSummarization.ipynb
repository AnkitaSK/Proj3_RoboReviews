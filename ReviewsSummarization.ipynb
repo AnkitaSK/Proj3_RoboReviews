{
  "nbformat": 4,
  "nbformat_minor": 0,
  "metadata": {
    "colab": {
      "provenance": [],
      "authorship_tag": "ABX9TyObTd6WSHWiSr+3X6nwIIUU",
      "include_colab_link": true
    },
    "kernelspec": {
      "name": "python3",
      "display_name": "Python 3"
    },
    "language_info": {
      "name": "python"
    }
  },
  "cells": [
    {
      "cell_type": "markdown",
      "metadata": {
        "id": "view-in-github",
        "colab_type": "text"
      },
      "source": [
        "<a href=\"https://colab.research.google.com/github/AnkitaSK/Proj3_RoboReviews/blob/main/ReviewsSummarization.ipynb\" target=\"_parent\"><img src=\"https://colab.research.google.com/assets/colab-badge.svg\" alt=\"Open In Colab\"/></a>"
      ]
    },
    {
      "cell_type": "code",
      "execution_count": 46,
      "metadata": {
        "id": "dcEd6uE-jb36"
      },
      "outputs": [],
      "source": [
        "import polars as pl\n",
        "from transformers import pipeline"
      ]
    },
    {
      "cell_type": "code",
      "source": [
        "print(pl.__version__)"
      ],
      "metadata": {
        "id": "o2YEq27WdYSX",
        "outputId": "4fc3a064-76aa-4936-fc29-fb6ccdbd48d6",
        "colab": {
          "base_uri": "https://localhost:8080/"
        }
      },
      "execution_count": 29,
      "outputs": [
        {
          "output_type": "stream",
          "name": "stdout",
          "text": [
            "1.9.0\n"
          ]
        }
      ]
    },
    {
      "cell_type": "code",
      "source": [
        "!pip install --upgrade polars"
      ],
      "metadata": {
        "id": "fILjIIzZdeEy",
        "outputId": "237eed3e-daf4-45e6-d16f-09f1aba037a8",
        "colab": {
          "base_uri": "https://localhost:8080/"
        }
      },
      "execution_count": 30,
      "outputs": [
        {
          "output_type": "stream",
          "name": "stdout",
          "text": [
            "Requirement already satisfied: polars in /usr/local/lib/python3.10/dist-packages (1.9.0)\n",
            "Collecting polars\n",
            "  Downloading polars-1.17.1-cp39-abi3-manylinux_2_17_x86_64.manylinux2014_x86_64.whl.metadata (14 kB)\n",
            "Downloading polars-1.17.1-cp39-abi3-manylinux_2_17_x86_64.manylinux2014_x86_64.whl (36.4 MB)\n",
            "\u001b[2K   \u001b[90m━━━━━━━━━━━━━━━━━━━━━━━━━━━━━━━━━━━━━━━━\u001b[0m \u001b[32m36.4/36.4 MB\u001b[0m \u001b[31m28.6 MB/s\u001b[0m eta \u001b[36m0:00:00\u001b[0m\n",
            "\u001b[?25hInstalling collected packages: polars\n",
            "  Attempting uninstall: polars\n",
            "    Found existing installation: polars 1.9.0\n",
            "    Uninstalling polars-1.9.0:\n",
            "      Successfully uninstalled polars-1.9.0\n",
            "Successfully installed polars-1.17.1\n"
          ]
        }
      ]
    },
    {
      "cell_type": "code",
      "source": [
        "# Load large CSV file\n",
        "df = pl.read_csv(\"reviews_with_Positive_topics.csv\")"
      ],
      "metadata": {
        "id": "SQ0uYJVOYpqR"
      },
      "execution_count": 48,
      "outputs": []
    },
    {
      "cell_type": "code",
      "source": [
        "df_filtered = df.filter(pl.col(\"Topic\") != -1)"
      ],
      "metadata": {
        "id": "iR6JyRnkgih9"
      },
      "execution_count": 66,
      "outputs": []
    },
    {
      "cell_type": "code",
      "source": [
        "print(df_filtered.head)"
      ],
      "metadata": {
        "id": "EjG6h1ePY2CS",
        "outputId": "3260d064-0bee-49a1-fea9-a651bd0745ff",
        "colab": {
          "base_uri": "https://localhost:8080/"
        }
      },
      "execution_count": 67,
      "outputs": [
        {
          "output_type": "stream",
          "name": "stdout",
          "text": [
            "<bound method DataFrame.head of shape: (13_687, 27)\n",
            "┌────────────┬────────────┬────────────┬───────────┬───┬───────────┬───────────┬───────────┬───────┐\n",
            "│ id         ┆ dateAdded  ┆ dateUpdate ┆ name      ┆ … ┆ sourceURL ┆ reviews.r ┆ Sentiment ┆ Topic │\n",
            "│ ---        ┆ ---        ┆ d          ┆ ---       ┆   ┆ s         ┆ ating_upd ┆ ---       ┆ ---   │\n",
            "│ str        ┆ str        ┆ ---        ┆ str       ┆   ┆ ---       ┆ ate       ┆ str       ┆ i64   │\n",
            "│            ┆            ┆ str        ┆           ┆   ┆ str       ┆ ---       ┆           ┆       │\n",
            "│            ┆            ┆            ┆           ┆   ┆           ┆ i64       ┆           ┆       │\n",
            "╞════════════╪════════════╪════════════╪═══════════╪═══╪═══════════╪═══════════╪═══════════╪═══════╡\n",
            "│ AVpgNzjwLJ ┆ 2015-10-30 ┆ 2019-04-25 ┆ AmazonBas ┆ … ┆ https://w ┆ 2         ┆ Positive  ┆ 5     │\n",
            "│ eJML43Kpxn ┆ T08:59:32Z ┆ T09:08:16Z ┆ ics AAA   ┆   ┆ ww.barcod ┆           ┆           ┆       │\n",
            "│            ┆            ┆            ┆ Performan ┆   ┆ able.com/ ┆           ┆           ┆       │\n",
            "│            ┆            ┆            ┆ ce A…     ┆   ┆ upc…      ┆           ┆           ┆       │\n",
            "│ AVpgNzjwLJ ┆ 2015-10-30 ┆ 2019-04-25 ┆ AmazonBas ┆ … ┆ https://w ┆ 2         ┆ Positive  ┆ 0     │\n",
            "│ eJML43Kpxn ┆ T08:59:32Z ┆ T09:08:16Z ┆ ics AAA   ┆   ┆ ww.barcod ┆           ┆           ┆       │\n",
            "│            ┆            ┆            ┆ Performan ┆   ┆ able.com/ ┆           ┆           ┆       │\n",
            "│            ┆            ┆            ┆ ce A…     ┆   ┆ upc…      ┆           ┆           ┆       │\n",
            "│ AVpgNzjwLJ ┆ 2015-10-30 ┆ 2019-04-25 ┆ AmazonBas ┆ … ┆ https://w ┆ 2         ┆ Positive  ┆ 0     │\n",
            "│ eJML43Kpxn ┆ T08:59:32Z ┆ T09:08:16Z ┆ ics AAA   ┆   ┆ ww.barcod ┆           ┆           ┆       │\n",
            "│            ┆            ┆            ┆ Performan ┆   ┆ able.com/ ┆           ┆           ┆       │\n",
            "│            ┆            ┆            ┆ ce A…     ┆   ┆ upc…      ┆           ┆           ┆       │\n",
            "│ AVpgNzjwLJ ┆ 2015-10-30 ┆ 2019-04-25 ┆ AmazonBas ┆ … ┆ https://w ┆ 2         ┆ Positive  ┆ 0     │\n",
            "│ eJML43Kpxn ┆ T08:59:32Z ┆ T09:08:16Z ┆ ics AAA   ┆   ┆ ww.barcod ┆           ┆           ┆       │\n",
            "│            ┆            ┆            ┆ Performan ┆   ┆ able.com/ ┆           ┆           ┆       │\n",
            "│            ┆            ┆            ┆ ce A…     ┆   ┆ upc…      ┆           ┆           ┆       │\n",
            "│ AVpgNzjwLJ ┆ 2015-10-30 ┆ 2019-04-25 ┆ AmazonBas ┆ … ┆ https://w ┆ 2         ┆ Positive  ┆ 5     │\n",
            "│ eJML43Kpxn ┆ T08:59:32Z ┆ T09:08:16Z ┆ ics AAA   ┆   ┆ ww.barcod ┆           ┆           ┆       │\n",
            "│            ┆            ┆            ┆ Performan ┆   ┆ able.com/ ┆           ┆           ┆       │\n",
            "│            ┆            ┆            ┆ ce A…     ┆   ┆ upc…      ┆           ┆           ┆       │\n",
            "│ …          ┆ …          ┆ …          ┆ …         ┆ … ┆ …         ┆ …         ┆ …         ┆ …     │\n",
            "│ AVqkIhxunn ┆ 2017-03-06 ┆ 2019-02-23 ┆ Fire HD 8 ┆ … ┆ http://re ┆ 2         ┆ Positive  ┆ 6     │\n",
            "│ c1JgDc3kg_ ┆ T14:59:43Z ┆ T02:49:38Z ┆ Tablet    ┆   ┆ views.bes ┆           ┆           ┆       │\n",
            "│            ┆            ┆            ┆ with      ┆   ┆ tbuy.com/ ┆           ┆           ┆       │\n",
            "│            ┆            ┆            ┆ Alexa, 8… ┆   ┆ 354…      ┆           ┆           ┆       │\n",
            "│ AVqkIhxunn ┆ 2017-03-06 ┆ 2019-02-23 ┆ Fire HD 8 ┆ … ┆ http://re ┆ 2         ┆ Positive  ┆ 1     │\n",
            "│ c1JgDc3kg_ ┆ T14:59:43Z ┆ T02:49:38Z ┆ Tablet    ┆   ┆ views.bes ┆           ┆           ┆       │\n",
            "│            ┆            ┆            ┆ with      ┆   ┆ tbuy.com/ ┆           ┆           ┆       │\n",
            "│            ┆            ┆            ┆ Alexa, 8… ┆   ┆ 354…      ┆           ┆           ┆       │\n",
            "│ AVqkIhxunn ┆ 2017-03-06 ┆ 2019-02-23 ┆ Fire HD 8 ┆ … ┆ http://re ┆ 2         ┆ Positive  ┆ 1     │\n",
            "│ c1JgDc3kg_ ┆ T14:59:43Z ┆ T02:49:38Z ┆ Tablet    ┆   ┆ views.bes ┆           ┆           ┆       │\n",
            "│            ┆            ┆            ┆ with      ┆   ┆ tbuy.com/ ┆           ┆           ┆       │\n",
            "│            ┆            ┆            ┆ Alexa, 8… ┆   ┆ 354…      ┆           ┆           ┆       │\n",
            "│ AVqkIhxunn ┆ 2017-03-06 ┆ 2019-02-23 ┆ Fire HD 8 ┆ … ┆ http://re ┆ 2         ┆ Positive  ┆ 10    │\n",
            "│ c1JgDc3kg_ ┆ T14:59:43Z ┆ T02:49:38Z ┆ Tablet    ┆   ┆ views.bes ┆           ┆           ┆       │\n",
            "│            ┆            ┆            ┆ with      ┆   ┆ tbuy.com/ ┆           ┆           ┆       │\n",
            "│            ┆            ┆            ┆ Alexa, 8… ┆   ┆ 354…      ┆           ┆           ┆       │\n",
            "│ AVqkIhxunn ┆ 2017-03-06 ┆ 2019-02-23 ┆ Fire HD 8 ┆ … ┆ http://re ┆ 2         ┆ Positive  ┆ 10    │\n",
            "│ c1JgDc3kg_ ┆ T14:59:43Z ┆ T02:49:38Z ┆ Tablet    ┆   ┆ views.bes ┆           ┆           ┆       │\n",
            "│            ┆            ┆            ┆ with      ┆   ┆ tbuy.com/ ┆           ┆           ┆       │\n",
            "│            ┆            ┆            ┆ Alexa, 8… ┆   ┆ 354…      ┆           ┆           ┆       │\n",
            "└────────────┴────────────┴────────────┴───────────┴───┴───────────┴───────────┴───────────┴───────┘>\n"
          ]
        }
      ]
    },
    {
      "cell_type": "code",
      "source": [
        "print(type(df_filtered))"
      ],
      "metadata": {
        "id": "2qYYSougb36i",
        "outputId": "e9f4df0e-00cc-4ad7-b854-57b0c8490d2f",
        "colab": {
          "base_uri": "https://localhost:8080/"
        }
      },
      "execution_count": 68,
      "outputs": [
        {
          "output_type": "stream",
          "name": "stdout",
          "text": [
            "<class 'polars.dataframe.frame.DataFrame'>\n"
          ]
        }
      ]
    },
    {
      "cell_type": "code",
      "source": [
        "print(df_filtered.columns)"
      ],
      "metadata": {
        "id": "N9od9Jezc-Io",
        "outputId": "c0db0879-fdb8-4bd9-8479-be2bbaf39891",
        "colab": {
          "base_uri": "https://localhost:8080/"
        }
      },
      "execution_count": 26,
      "outputs": [
        {
          "output_type": "stream",
          "name": "stdout",
          "text": [
            "['id', 'dateAdded', 'dateUpdated', 'name', 'asins', 'brand', 'categories', 'primaryCategories', 'imageURLs', 'keys', 'manufacturer', 'manufacturerNumber', 'reviews.date', 'reviews.dateSeen', 'reviews.didPurchase', 'reviews.doRecommend', 'reviews.id', 'reviews.numHelpful', 'reviews.rating', 'reviews.sourceURLs', 'reviews.text', 'reviews.title', 'reviews.username', 'sourceURLs', 'reviews.rating_update', 'Sentiment', 'Topic']\n"
          ]
        }
      ]
    },
    {
      "cell_type": "code",
      "source": [
        "# count the occurence of each topic\n",
        "topic_counts = df_filtered.group_by(\"Topic\").agg(pl.col(\"Topic\").count().alias(\"count\"))\n",
        "\n",
        "# Sort by the count in descending order\n",
        "topic_counts = topic_counts.sort(\"count\", descending=True)\n",
        "print(topic_counts)"
      ],
      "metadata": {
        "id": "ff_2_VNzaDv8",
        "outputId": "f18775c8-6ccf-4d4b-acfa-83c9e416e517",
        "colab": {
          "base_uri": "https://localhost:8080/"
        }
      },
      "execution_count": 69,
      "outputs": [
        {
          "output_type": "stream",
          "name": "stdout",
          "text": [
            "shape: (46, 2)\n",
            "┌───────┬───────┐\n",
            "│ Topic ┆ count │\n",
            "│ ---   ┆ ---   │\n",
            "│ i64   ┆ u32   │\n",
            "╞═══════╪═══════╡\n",
            "│ 0     ┆ 3774  │\n",
            "│ 1     ┆ 1172  │\n",
            "│ 2     ┆ 648   │\n",
            "│ 3     ┆ 624   │\n",
            "│ 4     ┆ 554   │\n",
            "│ …     ┆ …     │\n",
            "│ 41    ┆ 90    │\n",
            "│ 42    ┆ 85    │\n",
            "│ 43    ┆ 83    │\n",
            "│ 44    ┆ 83    │\n",
            "│ 45    ┆ 80    │\n",
            "└───────┴───────┘\n"
          ]
        }
      ]
    },
    {
      "cell_type": "code",
      "source": [
        "# Step 2: Select the top_n topics\n",
        "top_n = 7\n",
        "top_topics = topic_counts.head(top_n)[\"Topic\"]"
      ],
      "metadata": {
        "id": "Lrc9AuVseFfx"
      },
      "execution_count": 70,
      "outputs": []
    },
    {
      "cell_type": "code",
      "source": [
        "# Step 3: Summarize reviews for each topic\n",
        "summarizer = pipeline(\"summarization\", model=\"facebook/bart-large-cnn\")\n",
        "summaries = {}\n",
        "\n",
        "for topic in top_topics:\n",
        "    # Filter reviews for the current topic\n",
        "    filtered_reviews = df_filtered.filter(df_filtered[\"Topic\"] == topic)[\"reviews.text\"].to_list()\n",
        "\n",
        "    # Concatenate reviews into a single string for summarization\n",
        "    concatenated_reviews = \" \".join(filtered_reviews)\n",
        "\n",
        "    # Tokenize and ensure it's within the token limit (e.g., 1024 tokens)\n",
        "    inputs = summarizer.tokenizer(concatenated_reviews, return_tensors=\"pt\", truncation=True, max_length=1024, padding=\"max_length\")\n",
        "\n",
        "\n",
        "    # Summarize the concatenated reviews (using the summarizer)\n",
        "    summary = summarizer.model.generate(inputs[\"input_ids\"], max_length=50, min_length=10, num_beams=2, early_stopping=True)\n",
        "\n",
        "    # Decode the summary\n",
        "    summary_text = summarizer.tokenizer.decode(summary[0], skip_special_tokens=True)\n",
        "\n",
        "\n",
        "    summaries[topic] = summary_text\n",
        "\n",
        "\n",
        "# Print summaries\n",
        "print(summaries)\n",
        "\n"
      ],
      "metadata": {
        "id": "LBwLHFqceLp5",
        "outputId": "a800df57-ef9e-4870-e015-a486fb16c269",
        "colab": {
          "base_uri": "https://localhost:8080/"
        }
      },
      "execution_count": 72,
      "outputs": [
        {
          "output_type": "stream",
          "name": "stdout",
          "text": [
            "{0: 'AmazonBasics AA AAA batteries have done well by me appear to have a good shelf life. Will buy again.Seem to work as well as name brand batteries at a much better price These batteries are very long lasting the price is', 1: \"I like the Amazon line of Basics. Nothing fancy, they just work. Can't go wrong with Amazon basics. Great bang for your buck. Greatest deal on the planet! Cheaper than my local box store. Great value.\", 2: 'The Amazon Echo is a really fun thing to play with. We always try to find new things to say to it which would make it say something funny. The Echo has been the most helpful in our home for creating shopping lists.', 3: 'The modified Android operating system with Amazon features built-in is great. It has a 1.3 gigahertz processor, meaning for such a small device that decently enough. Internal memory is 8 gigs but you can expand to', 4: \"They don't last as long as the brand name but are good enough considering they are much cheaper. They seem to work okay so far and the price was great. Seem to hold up as well as any name brand and at a\", 5: \"These batteries are way better than Kirkland, Energizer and Duracell. They come in individual packs of 4, inside a white box to keep them in. They're batteries. Significantly more cost effective than Duracel\", 6: 'This tablet does it all and makes for an excellent e-reader, while also boasting specifications that rival any iPad. It uses their version of the Android OS which they call the Fire OS which is decently responsive and fairly intuitive to use'}\n"
          ]
        }
      ]
    },
    {
      "cell_type": "code",
      "source": [
        "# Step 4: Print the summaries\n",
        "for topic, summary in summaries.items():\n",
        "   print(f\"Topic {topic}: {summary}\")"
      ],
      "metadata": {
        "id": "nB8rkINTimSb",
        "outputId": "e26b9d78-247b-4495-acbd-9410e5818d93",
        "colab": {
          "base_uri": "https://localhost:8080/"
        }
      },
      "execution_count": 73,
      "outputs": [
        {
          "output_type": "stream",
          "name": "stdout",
          "text": [
            "Topic 0: AmazonBasics AA AAA batteries have done well by me appear to have a good shelf life. Will buy again.Seem to work as well as name brand batteries at a much better price These batteries are very long lasting the price is\n",
            "Topic 1: I like the Amazon line of Basics. Nothing fancy, they just work. Can't go wrong with Amazon basics. Great bang for your buck. Greatest deal on the planet! Cheaper than my local box store. Great value.\n",
            "Topic 2: The Amazon Echo is a really fun thing to play with. We always try to find new things to say to it which would make it say something funny. The Echo has been the most helpful in our home for creating shopping lists.\n",
            "Topic 3: The modified Android operating system with Amazon features built-in is great. It has a 1.3 gigahertz processor, meaning for such a small device that decently enough. Internal memory is 8 gigs but you can expand to\n",
            "Topic 4: They don't last as long as the brand name but are good enough considering they are much cheaper. They seem to work okay so far and the price was great. Seem to hold up as well as any name brand and at a\n",
            "Topic 5: These batteries are way better than Kirkland, Energizer and Duracell. They come in individual packs of 4, inside a white box to keep them in. They're batteries. Significantly more cost effective than Duracel\n",
            "Topic 6: This tablet does it all and makes for an excellent e-reader, while also boasting specifications that rival any iPad. It uses their version of the Android OS which they call the Fire OS which is decently responsive and fairly intuitive to use\n"
          ]
        }
      ]
    }
  ]
}
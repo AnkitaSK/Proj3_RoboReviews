{
  "nbformat": 4,
  "nbformat_minor": 0,
  "metadata": {
    "colab": {
      "provenance": [],
      "machine_shape": "hm",
      "gpuType": "A100",
      "authorship_tag": "ABX9TyOGOVGyabwQZInhW6BZZF6B",
      "include_colab_link": true
    },
    "kernelspec": {
      "name": "python3",
      "display_name": "Python 3"
    },
    "language_info": {
      "name": "python"
    },
    "accelerator": "GPU",
    "widgets": {
      "application/vnd.jupyter.widget-state+json": {
        "50b90efb8e5f4e7582317360962c742d": {
          "model_module": "@jupyter-widgets/controls",
          "model_name": "HBoxModel",
          "model_module_version": "1.5.0",
          "state": {
            "_dom_classes": [],
            "_model_module": "@jupyter-widgets/controls",
            "_model_module_version": "1.5.0",
            "_model_name": "HBoxModel",
            "_view_count": null,
            "_view_module": "@jupyter-widgets/controls",
            "_view_module_version": "1.5.0",
            "_view_name": "HBoxView",
            "box_style": "",
            "children": [
              "IPY_MODEL_9db8b0b8c1bf4f3287f04110375748f8",
              "IPY_MODEL_87f6a071410f460e8aa4a72022ffb836",
              "IPY_MODEL_b39237c46a364fac867861be5c5d7157"
            ],
            "layout": "IPY_MODEL_ce79c404cd9d43549272719cca1d5672"
          }
        },
        "9db8b0b8c1bf4f3287f04110375748f8": {
          "model_module": "@jupyter-widgets/controls",
          "model_name": "HTMLModel",
          "model_module_version": "1.5.0",
          "state": {
            "_dom_classes": [],
            "_model_module": "@jupyter-widgets/controls",
            "_model_module_version": "1.5.0",
            "_model_name": "HTMLModel",
            "_view_count": null,
            "_view_module": "@jupyter-widgets/controls",
            "_view_module_version": "1.5.0",
            "_view_name": "HTMLView",
            "description": "",
            "description_tooltip": null,
            "layout": "IPY_MODEL_484b64a3c4f04045a99c5b1e09c9c794",
            "placeholder": "​",
            "style": "IPY_MODEL_15a8e957117e46bf99f1e45bf29e547c",
            "value": "config.json: 100%"
          }
        },
        "87f6a071410f460e8aa4a72022ffb836": {
          "model_module": "@jupyter-widgets/controls",
          "model_name": "FloatProgressModel",
          "model_module_version": "1.5.0",
          "state": {
            "_dom_classes": [],
            "_model_module": "@jupyter-widgets/controls",
            "_model_module_version": "1.5.0",
            "_model_name": "FloatProgressModel",
            "_view_count": null,
            "_view_module": "@jupyter-widgets/controls",
            "_view_module_version": "1.5.0",
            "_view_name": "ProgressView",
            "bar_style": "success",
            "description": "",
            "description_tooltip": null,
            "layout": "IPY_MODEL_9d50579365a24af8afda0cd0de8c24a6",
            "max": 1585,
            "min": 0,
            "orientation": "horizontal",
            "style": "IPY_MODEL_aa57b8c5d76e401294145b58976428ca",
            "value": 1585
          }
        },
        "b39237c46a364fac867861be5c5d7157": {
          "model_module": "@jupyter-widgets/controls",
          "model_name": "HTMLModel",
          "model_module_version": "1.5.0",
          "state": {
            "_dom_classes": [],
            "_model_module": "@jupyter-widgets/controls",
            "_model_module_version": "1.5.0",
            "_model_name": "HTMLModel",
            "_view_count": null,
            "_view_module": "@jupyter-widgets/controls",
            "_view_module_version": "1.5.0",
            "_view_name": "HTMLView",
            "description": "",
            "description_tooltip": null,
            "layout": "IPY_MODEL_c9055769d73743bcb6662dec78c80af6",
            "placeholder": "​",
            "style": "IPY_MODEL_2da3231db6b741dba13f86181f34beb0",
            "value": " 1.58k/1.58k [00:00&lt;00:00, 123kB/s]"
          }
        },
        "ce79c404cd9d43549272719cca1d5672": {
          "model_module": "@jupyter-widgets/base",
          "model_name": "LayoutModel",
          "model_module_version": "1.2.0",
          "state": {
            "_model_module": "@jupyter-widgets/base",
            "_model_module_version": "1.2.0",
            "_model_name": "LayoutModel",
            "_view_count": null,
            "_view_module": "@jupyter-widgets/base",
            "_view_module_version": "1.2.0",
            "_view_name": "LayoutView",
            "align_content": null,
            "align_items": null,
            "align_self": null,
            "border": null,
            "bottom": null,
            "display": null,
            "flex": null,
            "flex_flow": null,
            "grid_area": null,
            "grid_auto_columns": null,
            "grid_auto_flow": null,
            "grid_auto_rows": null,
            "grid_column": null,
            "grid_gap": null,
            "grid_row": null,
            "grid_template_areas": null,
            "grid_template_columns": null,
            "grid_template_rows": null,
            "height": null,
            "justify_content": null,
            "justify_items": null,
            "left": null,
            "margin": null,
            "max_height": null,
            "max_width": null,
            "min_height": null,
            "min_width": null,
            "object_fit": null,
            "object_position": null,
            "order": null,
            "overflow": null,
            "overflow_x": null,
            "overflow_y": null,
            "padding": null,
            "right": null,
            "top": null,
            "visibility": null,
            "width": null
          }
        },
        "484b64a3c4f04045a99c5b1e09c9c794": {
          "model_module": "@jupyter-widgets/base",
          "model_name": "LayoutModel",
          "model_module_version": "1.2.0",
          "state": {
            "_model_module": "@jupyter-widgets/base",
            "_model_module_version": "1.2.0",
            "_model_name": "LayoutModel",
            "_view_count": null,
            "_view_module": "@jupyter-widgets/base",
            "_view_module_version": "1.2.0",
            "_view_name": "LayoutView",
            "align_content": null,
            "align_items": null,
            "align_self": null,
            "border": null,
            "bottom": null,
            "display": null,
            "flex": null,
            "flex_flow": null,
            "grid_area": null,
            "grid_auto_columns": null,
            "grid_auto_flow": null,
            "grid_auto_rows": null,
            "grid_column": null,
            "grid_gap": null,
            "grid_row": null,
            "grid_template_areas": null,
            "grid_template_columns": null,
            "grid_template_rows": null,
            "height": null,
            "justify_content": null,
            "justify_items": null,
            "left": null,
            "margin": null,
            "max_height": null,
            "max_width": null,
            "min_height": null,
            "min_width": null,
            "object_fit": null,
            "object_position": null,
            "order": null,
            "overflow": null,
            "overflow_x": null,
            "overflow_y": null,
            "padding": null,
            "right": null,
            "top": null,
            "visibility": null,
            "width": null
          }
        },
        "15a8e957117e46bf99f1e45bf29e547c": {
          "model_module": "@jupyter-widgets/controls",
          "model_name": "DescriptionStyleModel",
          "model_module_version": "1.5.0",
          "state": {
            "_model_module": "@jupyter-widgets/controls",
            "_model_module_version": "1.5.0",
            "_model_name": "DescriptionStyleModel",
            "_view_count": null,
            "_view_module": "@jupyter-widgets/base",
            "_view_module_version": "1.2.0",
            "_view_name": "StyleView",
            "description_width": ""
          }
        },
        "9d50579365a24af8afda0cd0de8c24a6": {
          "model_module": "@jupyter-widgets/base",
          "model_name": "LayoutModel",
          "model_module_version": "1.2.0",
          "state": {
            "_model_module": "@jupyter-widgets/base",
            "_model_module_version": "1.2.0",
            "_model_name": "LayoutModel",
            "_view_count": null,
            "_view_module": "@jupyter-widgets/base",
            "_view_module_version": "1.2.0",
            "_view_name": "LayoutView",
            "align_content": null,
            "align_items": null,
            "align_self": null,
            "border": null,
            "bottom": null,
            "display": null,
            "flex": null,
            "flex_flow": null,
            "grid_area": null,
            "grid_auto_columns": null,
            "grid_auto_flow": null,
            "grid_auto_rows": null,
            "grid_column": null,
            "grid_gap": null,
            "grid_row": null,
            "grid_template_areas": null,
            "grid_template_columns": null,
            "grid_template_rows": null,
            "height": null,
            "justify_content": null,
            "justify_items": null,
            "left": null,
            "margin": null,
            "max_height": null,
            "max_width": null,
            "min_height": null,
            "min_width": null,
            "object_fit": null,
            "object_position": null,
            "order": null,
            "overflow": null,
            "overflow_x": null,
            "overflow_y": null,
            "padding": null,
            "right": null,
            "top": null,
            "visibility": null,
            "width": null
          }
        },
        "aa57b8c5d76e401294145b58976428ca": {
          "model_module": "@jupyter-widgets/controls",
          "model_name": "ProgressStyleModel",
          "model_module_version": "1.5.0",
          "state": {
            "_model_module": "@jupyter-widgets/controls",
            "_model_module_version": "1.5.0",
            "_model_name": "ProgressStyleModel",
            "_view_count": null,
            "_view_module": "@jupyter-widgets/base",
            "_view_module_version": "1.2.0",
            "_view_name": "StyleView",
            "bar_color": null,
            "description_width": ""
          }
        },
        "c9055769d73743bcb6662dec78c80af6": {
          "model_module": "@jupyter-widgets/base",
          "model_name": "LayoutModel",
          "model_module_version": "1.2.0",
          "state": {
            "_model_module": "@jupyter-widgets/base",
            "_model_module_version": "1.2.0",
            "_model_name": "LayoutModel",
            "_view_count": null,
            "_view_module": "@jupyter-widgets/base",
            "_view_module_version": "1.2.0",
            "_view_name": "LayoutView",
            "align_content": null,
            "align_items": null,
            "align_self": null,
            "border": null,
            "bottom": null,
            "display": null,
            "flex": null,
            "flex_flow": null,
            "grid_area": null,
            "grid_auto_columns": null,
            "grid_auto_flow": null,
            "grid_auto_rows": null,
            "grid_column": null,
            "grid_gap": null,
            "grid_row": null,
            "grid_template_areas": null,
            "grid_template_columns": null,
            "grid_template_rows": null,
            "height": null,
            "justify_content": null,
            "justify_items": null,
            "left": null,
            "margin": null,
            "max_height": null,
            "max_width": null,
            "min_height": null,
            "min_width": null,
            "object_fit": null,
            "object_position": null,
            "order": null,
            "overflow": null,
            "overflow_x": null,
            "overflow_y": null,
            "padding": null,
            "right": null,
            "top": null,
            "visibility": null,
            "width": null
          }
        },
        "2da3231db6b741dba13f86181f34beb0": {
          "model_module": "@jupyter-widgets/controls",
          "model_name": "DescriptionStyleModel",
          "model_module_version": "1.5.0",
          "state": {
            "_model_module": "@jupyter-widgets/controls",
            "_model_module_version": "1.5.0",
            "_model_name": "DescriptionStyleModel",
            "_view_count": null,
            "_view_module": "@jupyter-widgets/base",
            "_view_module_version": "1.2.0",
            "_view_name": "StyleView",
            "description_width": ""
          }
        },
        "0adabd3e567e4264b094fcb039f3aeb4": {
          "model_module": "@jupyter-widgets/controls",
          "model_name": "HBoxModel",
          "model_module_version": "1.5.0",
          "state": {
            "_dom_classes": [],
            "_model_module": "@jupyter-widgets/controls",
            "_model_module_version": "1.5.0",
            "_model_name": "HBoxModel",
            "_view_count": null,
            "_view_module": "@jupyter-widgets/controls",
            "_view_module_version": "1.5.0",
            "_view_name": "HBoxView",
            "box_style": "",
            "children": [
              "IPY_MODEL_4d68626c3cd94a64802d6122cb38fca5",
              "IPY_MODEL_1f3544a6ee9e49d79030be4901fdb094",
              "IPY_MODEL_1aaa229f1d474b81bd75a1eb7f6631e8"
            ],
            "layout": "IPY_MODEL_2d166b4f285a4b6ab6566b82ad1c9faa"
          }
        },
        "4d68626c3cd94a64802d6122cb38fca5": {
          "model_module": "@jupyter-widgets/controls",
          "model_name": "HTMLModel",
          "model_module_version": "1.5.0",
          "state": {
            "_dom_classes": [],
            "_model_module": "@jupyter-widgets/controls",
            "_model_module_version": "1.5.0",
            "_model_name": "HTMLModel",
            "_view_count": null,
            "_view_module": "@jupyter-widgets/controls",
            "_view_module_version": "1.5.0",
            "_view_name": "HTMLView",
            "description": "",
            "description_tooltip": null,
            "layout": "IPY_MODEL_4f6877e4d6c94929b8b12fc930efa0bc",
            "placeholder": "​",
            "style": "IPY_MODEL_c12a1662661d43bf8e03f40ceddcc360",
            "value": "model.safetensors: 100%"
          }
        },
        "1f3544a6ee9e49d79030be4901fdb094": {
          "model_module": "@jupyter-widgets/controls",
          "model_name": "FloatProgressModel",
          "model_module_version": "1.5.0",
          "state": {
            "_dom_classes": [],
            "_model_module": "@jupyter-widgets/controls",
            "_model_module_version": "1.5.0",
            "_model_name": "FloatProgressModel",
            "_view_count": null,
            "_view_module": "@jupyter-widgets/controls",
            "_view_module_version": "1.5.0",
            "_view_name": "ProgressView",
            "bar_style": "success",
            "description": "",
            "description_tooltip": null,
            "layout": "IPY_MODEL_e8ac9ed5a5f54fb1a28ea4c7b163f4b6",
            "max": 1625222120,
            "min": 0,
            "orientation": "horizontal",
            "style": "IPY_MODEL_947ec09b19b8447983409fedd402774c",
            "value": 1625222120
          }
        },
        "1aaa229f1d474b81bd75a1eb7f6631e8": {
          "model_module": "@jupyter-widgets/controls",
          "model_name": "HTMLModel",
          "model_module_version": "1.5.0",
          "state": {
            "_dom_classes": [],
            "_model_module": "@jupyter-widgets/controls",
            "_model_module_version": "1.5.0",
            "_model_name": "HTMLModel",
            "_view_count": null,
            "_view_module": "@jupyter-widgets/controls",
            "_view_module_version": "1.5.0",
            "_view_name": "HTMLView",
            "description": "",
            "description_tooltip": null,
            "layout": "IPY_MODEL_4d877de6bc9040c695b9d2f34875fd0f",
            "placeholder": "​",
            "style": "IPY_MODEL_fcac2852f14040d2bb133625bea666a9",
            "value": " 1.63G/1.63G [00:07&lt;00:00, 201MB/s]"
          }
        },
        "2d166b4f285a4b6ab6566b82ad1c9faa": {
          "model_module": "@jupyter-widgets/base",
          "model_name": "LayoutModel",
          "model_module_version": "1.2.0",
          "state": {
            "_model_module": "@jupyter-widgets/base",
            "_model_module_version": "1.2.0",
            "_model_name": "LayoutModel",
            "_view_count": null,
            "_view_module": "@jupyter-widgets/base",
            "_view_module_version": "1.2.0",
            "_view_name": "LayoutView",
            "align_content": null,
            "align_items": null,
            "align_self": null,
            "border": null,
            "bottom": null,
            "display": null,
            "flex": null,
            "flex_flow": null,
            "grid_area": null,
            "grid_auto_columns": null,
            "grid_auto_flow": null,
            "grid_auto_rows": null,
            "grid_column": null,
            "grid_gap": null,
            "grid_row": null,
            "grid_template_areas": null,
            "grid_template_columns": null,
            "grid_template_rows": null,
            "height": null,
            "justify_content": null,
            "justify_items": null,
            "left": null,
            "margin": null,
            "max_height": null,
            "max_width": null,
            "min_height": null,
            "min_width": null,
            "object_fit": null,
            "object_position": null,
            "order": null,
            "overflow": null,
            "overflow_x": null,
            "overflow_y": null,
            "padding": null,
            "right": null,
            "top": null,
            "visibility": null,
            "width": null
          }
        },
        "4f6877e4d6c94929b8b12fc930efa0bc": {
          "model_module": "@jupyter-widgets/base",
          "model_name": "LayoutModel",
          "model_module_version": "1.2.0",
          "state": {
            "_model_module": "@jupyter-widgets/base",
            "_model_module_version": "1.2.0",
            "_model_name": "LayoutModel",
            "_view_count": null,
            "_view_module": "@jupyter-widgets/base",
            "_view_module_version": "1.2.0",
            "_view_name": "LayoutView",
            "align_content": null,
            "align_items": null,
            "align_self": null,
            "border": null,
            "bottom": null,
            "display": null,
            "flex": null,
            "flex_flow": null,
            "grid_area": null,
            "grid_auto_columns": null,
            "grid_auto_flow": null,
            "grid_auto_rows": null,
            "grid_column": null,
            "grid_gap": null,
            "grid_row": null,
            "grid_template_areas": null,
            "grid_template_columns": null,
            "grid_template_rows": null,
            "height": null,
            "justify_content": null,
            "justify_items": null,
            "left": null,
            "margin": null,
            "max_height": null,
            "max_width": null,
            "min_height": null,
            "min_width": null,
            "object_fit": null,
            "object_position": null,
            "order": null,
            "overflow": null,
            "overflow_x": null,
            "overflow_y": null,
            "padding": null,
            "right": null,
            "top": null,
            "visibility": null,
            "width": null
          }
        },
        "c12a1662661d43bf8e03f40ceddcc360": {
          "model_module": "@jupyter-widgets/controls",
          "model_name": "DescriptionStyleModel",
          "model_module_version": "1.5.0",
          "state": {
            "_model_module": "@jupyter-widgets/controls",
            "_model_module_version": "1.5.0",
            "_model_name": "DescriptionStyleModel",
            "_view_count": null,
            "_view_module": "@jupyter-widgets/base",
            "_view_module_version": "1.2.0",
            "_view_name": "StyleView",
            "description_width": ""
          }
        },
        "e8ac9ed5a5f54fb1a28ea4c7b163f4b6": {
          "model_module": "@jupyter-widgets/base",
          "model_name": "LayoutModel",
          "model_module_version": "1.2.0",
          "state": {
            "_model_module": "@jupyter-widgets/base",
            "_model_module_version": "1.2.0",
            "_model_name": "LayoutModel",
            "_view_count": null,
            "_view_module": "@jupyter-widgets/base",
            "_view_module_version": "1.2.0",
            "_view_name": "LayoutView",
            "align_content": null,
            "align_items": null,
            "align_self": null,
            "border": null,
            "bottom": null,
            "display": null,
            "flex": null,
            "flex_flow": null,
            "grid_area": null,
            "grid_auto_columns": null,
            "grid_auto_flow": null,
            "grid_auto_rows": null,
            "grid_column": null,
            "grid_gap": null,
            "grid_row": null,
            "grid_template_areas": null,
            "grid_template_columns": null,
            "grid_template_rows": null,
            "height": null,
            "justify_content": null,
            "justify_items": null,
            "left": null,
            "margin": null,
            "max_height": null,
            "max_width": null,
            "min_height": null,
            "min_width": null,
            "object_fit": null,
            "object_position": null,
            "order": null,
            "overflow": null,
            "overflow_x": null,
            "overflow_y": null,
            "padding": null,
            "right": null,
            "top": null,
            "visibility": null,
            "width": null
          }
        },
        "947ec09b19b8447983409fedd402774c": {
          "model_module": "@jupyter-widgets/controls",
          "model_name": "ProgressStyleModel",
          "model_module_version": "1.5.0",
          "state": {
            "_model_module": "@jupyter-widgets/controls",
            "_model_module_version": "1.5.0",
            "_model_name": "ProgressStyleModel",
            "_view_count": null,
            "_view_module": "@jupyter-widgets/base",
            "_view_module_version": "1.2.0",
            "_view_name": "StyleView",
            "bar_color": null,
            "description_width": ""
          }
        },
        "4d877de6bc9040c695b9d2f34875fd0f": {
          "model_module": "@jupyter-widgets/base",
          "model_name": "LayoutModel",
          "model_module_version": "1.2.0",
          "state": {
            "_model_module": "@jupyter-widgets/base",
            "_model_module_version": "1.2.0",
            "_model_name": "LayoutModel",
            "_view_count": null,
            "_view_module": "@jupyter-widgets/base",
            "_view_module_version": "1.2.0",
            "_view_name": "LayoutView",
            "align_content": null,
            "align_items": null,
            "align_self": null,
            "border": null,
            "bottom": null,
            "display": null,
            "flex": null,
            "flex_flow": null,
            "grid_area": null,
            "grid_auto_columns": null,
            "grid_auto_flow": null,
            "grid_auto_rows": null,
            "grid_column": null,
            "grid_gap": null,
            "grid_row": null,
            "grid_template_areas": null,
            "grid_template_columns": null,
            "grid_template_rows": null,
            "height": null,
            "justify_content": null,
            "justify_items": null,
            "left": null,
            "margin": null,
            "max_height": null,
            "max_width": null,
            "min_height": null,
            "min_width": null,
            "object_fit": null,
            "object_position": null,
            "order": null,
            "overflow": null,
            "overflow_x": null,
            "overflow_y": null,
            "padding": null,
            "right": null,
            "top": null,
            "visibility": null,
            "width": null
          }
        },
        "fcac2852f14040d2bb133625bea666a9": {
          "model_module": "@jupyter-widgets/controls",
          "model_name": "DescriptionStyleModel",
          "model_module_version": "1.5.0",
          "state": {
            "_model_module": "@jupyter-widgets/controls",
            "_model_module_version": "1.5.0",
            "_model_name": "DescriptionStyleModel",
            "_view_count": null,
            "_view_module": "@jupyter-widgets/base",
            "_view_module_version": "1.2.0",
            "_view_name": "StyleView",
            "description_width": ""
          }
        },
        "93a8a8214c2a43a0a68e2c93633ce6b2": {
          "model_module": "@jupyter-widgets/controls",
          "model_name": "HBoxModel",
          "model_module_version": "1.5.0",
          "state": {
            "_dom_classes": [],
            "_model_module": "@jupyter-widgets/controls",
            "_model_module_version": "1.5.0",
            "_model_name": "HBoxModel",
            "_view_count": null,
            "_view_module": "@jupyter-widgets/controls",
            "_view_module_version": "1.5.0",
            "_view_name": "HBoxView",
            "box_style": "",
            "children": [
              "IPY_MODEL_80a5bcca8a98428c893bc6dc05ff98c9",
              "IPY_MODEL_c408ce4935e24300826b287b58e3cb13",
              "IPY_MODEL_347d2b3b98334958a93463da42630e15"
            ],
            "layout": "IPY_MODEL_7fdbfb5aebe94fbc9472f78dd2fc9c84"
          }
        },
        "80a5bcca8a98428c893bc6dc05ff98c9": {
          "model_module": "@jupyter-widgets/controls",
          "model_name": "HTMLModel",
          "model_module_version": "1.5.0",
          "state": {
            "_dom_classes": [],
            "_model_module": "@jupyter-widgets/controls",
            "_model_module_version": "1.5.0",
            "_model_name": "HTMLModel",
            "_view_count": null,
            "_view_module": "@jupyter-widgets/controls",
            "_view_module_version": "1.5.0",
            "_view_name": "HTMLView",
            "description": "",
            "description_tooltip": null,
            "layout": "IPY_MODEL_47032eae82de4fed867c0495d07cf94c",
            "placeholder": "​",
            "style": "IPY_MODEL_496bb8298d214d7e9b5f12a2d7384659",
            "value": "generation_config.json: 100%"
          }
        },
        "c408ce4935e24300826b287b58e3cb13": {
          "model_module": "@jupyter-widgets/controls",
          "model_name": "FloatProgressModel",
          "model_module_version": "1.5.0",
          "state": {
            "_dom_classes": [],
            "_model_module": "@jupyter-widgets/controls",
            "_model_module_version": "1.5.0",
            "_model_name": "FloatProgressModel",
            "_view_count": null,
            "_view_module": "@jupyter-widgets/controls",
            "_view_module_version": "1.5.0",
            "_view_name": "ProgressView",
            "bar_style": "success",
            "description": "",
            "description_tooltip": null,
            "layout": "IPY_MODEL_c109d990e994405fbe5ea56d4aa9ff4e",
            "max": 363,
            "min": 0,
            "orientation": "horizontal",
            "style": "IPY_MODEL_129ce2e1476240388450101116fd6047",
            "value": 363
          }
        },
        "347d2b3b98334958a93463da42630e15": {
          "model_module": "@jupyter-widgets/controls",
          "model_name": "HTMLModel",
          "model_module_version": "1.5.0",
          "state": {
            "_dom_classes": [],
            "_model_module": "@jupyter-widgets/controls",
            "_model_module_version": "1.5.0",
            "_model_name": "HTMLModel",
            "_view_count": null,
            "_view_module": "@jupyter-widgets/controls",
            "_view_module_version": "1.5.0",
            "_view_name": "HTMLView",
            "description": "",
            "description_tooltip": null,
            "layout": "IPY_MODEL_669309b0846345768c4a1612f6652da3",
            "placeholder": "​",
            "style": "IPY_MODEL_857c222bcbbf4994b4a63fb79fa3bb1a",
            "value": " 363/363 [00:00&lt;00:00, 33.7kB/s]"
          }
        },
        "7fdbfb5aebe94fbc9472f78dd2fc9c84": {
          "model_module": "@jupyter-widgets/base",
          "model_name": "LayoutModel",
          "model_module_version": "1.2.0",
          "state": {
            "_model_module": "@jupyter-widgets/base",
            "_model_module_version": "1.2.0",
            "_model_name": "LayoutModel",
            "_view_count": null,
            "_view_module": "@jupyter-widgets/base",
            "_view_module_version": "1.2.0",
            "_view_name": "LayoutView",
            "align_content": null,
            "align_items": null,
            "align_self": null,
            "border": null,
            "bottom": null,
            "display": null,
            "flex": null,
            "flex_flow": null,
            "grid_area": null,
            "grid_auto_columns": null,
            "grid_auto_flow": null,
            "grid_auto_rows": null,
            "grid_column": null,
            "grid_gap": null,
            "grid_row": null,
            "grid_template_areas": null,
            "grid_template_columns": null,
            "grid_template_rows": null,
            "height": null,
            "justify_content": null,
            "justify_items": null,
            "left": null,
            "margin": null,
            "max_height": null,
            "max_width": null,
            "min_height": null,
            "min_width": null,
            "object_fit": null,
            "object_position": null,
            "order": null,
            "overflow": null,
            "overflow_x": null,
            "overflow_y": null,
            "padding": null,
            "right": null,
            "top": null,
            "visibility": null,
            "width": null
          }
        },
        "47032eae82de4fed867c0495d07cf94c": {
          "model_module": "@jupyter-widgets/base",
          "model_name": "LayoutModel",
          "model_module_version": "1.2.0",
          "state": {
            "_model_module": "@jupyter-widgets/base",
            "_model_module_version": "1.2.0",
            "_model_name": "LayoutModel",
            "_view_count": null,
            "_view_module": "@jupyter-widgets/base",
            "_view_module_version": "1.2.0",
            "_view_name": "LayoutView",
            "align_content": null,
            "align_items": null,
            "align_self": null,
            "border": null,
            "bottom": null,
            "display": null,
            "flex": null,
            "flex_flow": null,
            "grid_area": null,
            "grid_auto_columns": null,
            "grid_auto_flow": null,
            "grid_auto_rows": null,
            "grid_column": null,
            "grid_gap": null,
            "grid_row": null,
            "grid_template_areas": null,
            "grid_template_columns": null,
            "grid_template_rows": null,
            "height": null,
            "justify_content": null,
            "justify_items": null,
            "left": null,
            "margin": null,
            "max_height": null,
            "max_width": null,
            "min_height": null,
            "min_width": null,
            "object_fit": null,
            "object_position": null,
            "order": null,
            "overflow": null,
            "overflow_x": null,
            "overflow_y": null,
            "padding": null,
            "right": null,
            "top": null,
            "visibility": null,
            "width": null
          }
        },
        "496bb8298d214d7e9b5f12a2d7384659": {
          "model_module": "@jupyter-widgets/controls",
          "model_name": "DescriptionStyleModel",
          "model_module_version": "1.5.0",
          "state": {
            "_model_module": "@jupyter-widgets/controls",
            "_model_module_version": "1.5.0",
            "_model_name": "DescriptionStyleModel",
            "_view_count": null,
            "_view_module": "@jupyter-widgets/base",
            "_view_module_version": "1.2.0",
            "_view_name": "StyleView",
            "description_width": ""
          }
        },
        "c109d990e994405fbe5ea56d4aa9ff4e": {
          "model_module": "@jupyter-widgets/base",
          "model_name": "LayoutModel",
          "model_module_version": "1.2.0",
          "state": {
            "_model_module": "@jupyter-widgets/base",
            "_model_module_version": "1.2.0",
            "_model_name": "LayoutModel",
            "_view_count": null,
            "_view_module": "@jupyter-widgets/base",
            "_view_module_version": "1.2.0",
            "_view_name": "LayoutView",
            "align_content": null,
            "align_items": null,
            "align_self": null,
            "border": null,
            "bottom": null,
            "display": null,
            "flex": null,
            "flex_flow": null,
            "grid_area": null,
            "grid_auto_columns": null,
            "grid_auto_flow": null,
            "grid_auto_rows": null,
            "grid_column": null,
            "grid_gap": null,
            "grid_row": null,
            "grid_template_areas": null,
            "grid_template_columns": null,
            "grid_template_rows": null,
            "height": null,
            "justify_content": null,
            "justify_items": null,
            "left": null,
            "margin": null,
            "max_height": null,
            "max_width": null,
            "min_height": null,
            "min_width": null,
            "object_fit": null,
            "object_position": null,
            "order": null,
            "overflow": null,
            "overflow_x": null,
            "overflow_y": null,
            "padding": null,
            "right": null,
            "top": null,
            "visibility": null,
            "width": null
          }
        },
        "129ce2e1476240388450101116fd6047": {
          "model_module": "@jupyter-widgets/controls",
          "model_name": "ProgressStyleModel",
          "model_module_version": "1.5.0",
          "state": {
            "_model_module": "@jupyter-widgets/controls",
            "_model_module_version": "1.5.0",
            "_model_name": "ProgressStyleModel",
            "_view_count": null,
            "_view_module": "@jupyter-widgets/base",
            "_view_module_version": "1.2.0",
            "_view_name": "StyleView",
            "bar_color": null,
            "description_width": ""
          }
        },
        "669309b0846345768c4a1612f6652da3": {
          "model_module": "@jupyter-widgets/base",
          "model_name": "LayoutModel",
          "model_module_version": "1.2.0",
          "state": {
            "_model_module": "@jupyter-widgets/base",
            "_model_module_version": "1.2.0",
            "_model_name": "LayoutModel",
            "_view_count": null,
            "_view_module": "@jupyter-widgets/base",
            "_view_module_version": "1.2.0",
            "_view_name": "LayoutView",
            "align_content": null,
            "align_items": null,
            "align_self": null,
            "border": null,
            "bottom": null,
            "display": null,
            "flex": null,
            "flex_flow": null,
            "grid_area": null,
            "grid_auto_columns": null,
            "grid_auto_flow": null,
            "grid_auto_rows": null,
            "grid_column": null,
            "grid_gap": null,
            "grid_row": null,
            "grid_template_areas": null,
            "grid_template_columns": null,
            "grid_template_rows": null,
            "height": null,
            "justify_content": null,
            "justify_items": null,
            "left": null,
            "margin": null,
            "max_height": null,
            "max_width": null,
            "min_height": null,
            "min_width": null,
            "object_fit": null,
            "object_position": null,
            "order": null,
            "overflow": null,
            "overflow_x": null,
            "overflow_y": null,
            "padding": null,
            "right": null,
            "top": null,
            "visibility": null,
            "width": null
          }
        },
        "857c222bcbbf4994b4a63fb79fa3bb1a": {
          "model_module": "@jupyter-widgets/controls",
          "model_name": "DescriptionStyleModel",
          "model_module_version": "1.5.0",
          "state": {
            "_model_module": "@jupyter-widgets/controls",
            "_model_module_version": "1.5.0",
            "_model_name": "DescriptionStyleModel",
            "_view_count": null,
            "_view_module": "@jupyter-widgets/base",
            "_view_module_version": "1.2.0",
            "_view_name": "StyleView",
            "description_width": ""
          }
        },
        "905768ecc97a445bb1518555256ab9b4": {
          "model_module": "@jupyter-widgets/controls",
          "model_name": "HBoxModel",
          "model_module_version": "1.5.0",
          "state": {
            "_dom_classes": [],
            "_model_module": "@jupyter-widgets/controls",
            "_model_module_version": "1.5.0",
            "_model_name": "HBoxModel",
            "_view_count": null,
            "_view_module": "@jupyter-widgets/controls",
            "_view_module_version": "1.5.0",
            "_view_name": "HBoxView",
            "box_style": "",
            "children": [
              "IPY_MODEL_dc87d0ca791a49b8b32c30fa4bbaca8a",
              "IPY_MODEL_609d895098e84715a58481b4e6cdcff5",
              "IPY_MODEL_5dbab56aa2474ec3b1cc4d7360363cad"
            ],
            "layout": "IPY_MODEL_e1e57f12ab5541ab843f8be5ca77ec76"
          }
        },
        "dc87d0ca791a49b8b32c30fa4bbaca8a": {
          "model_module": "@jupyter-widgets/controls",
          "model_name": "HTMLModel",
          "model_module_version": "1.5.0",
          "state": {
            "_dom_classes": [],
            "_model_module": "@jupyter-widgets/controls",
            "_model_module_version": "1.5.0",
            "_model_name": "HTMLModel",
            "_view_count": null,
            "_view_module": "@jupyter-widgets/controls",
            "_view_module_version": "1.5.0",
            "_view_name": "HTMLView",
            "description": "",
            "description_tooltip": null,
            "layout": "IPY_MODEL_1d6dce0398024c81ac7b9afbbb2a8fdb",
            "placeholder": "​",
            "style": "IPY_MODEL_13db78c5e6824bc59e8f4ee97c14bb31",
            "value": "vocab.json: 100%"
          }
        },
        "609d895098e84715a58481b4e6cdcff5": {
          "model_module": "@jupyter-widgets/controls",
          "model_name": "FloatProgressModel",
          "model_module_version": "1.5.0",
          "state": {
            "_dom_classes": [],
            "_model_module": "@jupyter-widgets/controls",
            "_model_module_version": "1.5.0",
            "_model_name": "FloatProgressModel",
            "_view_count": null,
            "_view_module": "@jupyter-widgets/controls",
            "_view_module_version": "1.5.0",
            "_view_name": "ProgressView",
            "bar_style": "success",
            "description": "",
            "description_tooltip": null,
            "layout": "IPY_MODEL_419159c7a3f04b4e92fefc0381dd9985",
            "max": 898823,
            "min": 0,
            "orientation": "horizontal",
            "style": "IPY_MODEL_8ae5d001e1eb4f7e856ebf556176e623",
            "value": 898823
          }
        },
        "5dbab56aa2474ec3b1cc4d7360363cad": {
          "model_module": "@jupyter-widgets/controls",
          "model_name": "HTMLModel",
          "model_module_version": "1.5.0",
          "state": {
            "_dom_classes": [],
            "_model_module": "@jupyter-widgets/controls",
            "_model_module_version": "1.5.0",
            "_model_name": "HTMLModel",
            "_view_count": null,
            "_view_module": "@jupyter-widgets/controls",
            "_view_module_version": "1.5.0",
            "_view_name": "HTMLView",
            "description": "",
            "description_tooltip": null,
            "layout": "IPY_MODEL_555814bc50c54b25a39b35f30805b100",
            "placeholder": "​",
            "style": "IPY_MODEL_01659a40fa9a4b9f8212d6532d49e973",
            "value": " 899k/899k [00:00&lt;00:00, 12.6MB/s]"
          }
        },
        "e1e57f12ab5541ab843f8be5ca77ec76": {
          "model_module": "@jupyter-widgets/base",
          "model_name": "LayoutModel",
          "model_module_version": "1.2.0",
          "state": {
            "_model_module": "@jupyter-widgets/base",
            "_model_module_version": "1.2.0",
            "_model_name": "LayoutModel",
            "_view_count": null,
            "_view_module": "@jupyter-widgets/base",
            "_view_module_version": "1.2.0",
            "_view_name": "LayoutView",
            "align_content": null,
            "align_items": null,
            "align_self": null,
            "border": null,
            "bottom": null,
            "display": null,
            "flex": null,
            "flex_flow": null,
            "grid_area": null,
            "grid_auto_columns": null,
            "grid_auto_flow": null,
            "grid_auto_rows": null,
            "grid_column": null,
            "grid_gap": null,
            "grid_row": null,
            "grid_template_areas": null,
            "grid_template_columns": null,
            "grid_template_rows": null,
            "height": null,
            "justify_content": null,
            "justify_items": null,
            "left": null,
            "margin": null,
            "max_height": null,
            "max_width": null,
            "min_height": null,
            "min_width": null,
            "object_fit": null,
            "object_position": null,
            "order": null,
            "overflow": null,
            "overflow_x": null,
            "overflow_y": null,
            "padding": null,
            "right": null,
            "top": null,
            "visibility": null,
            "width": null
          }
        },
        "1d6dce0398024c81ac7b9afbbb2a8fdb": {
          "model_module": "@jupyter-widgets/base",
          "model_name": "LayoutModel",
          "model_module_version": "1.2.0",
          "state": {
            "_model_module": "@jupyter-widgets/base",
            "_model_module_version": "1.2.0",
            "_model_name": "LayoutModel",
            "_view_count": null,
            "_view_module": "@jupyter-widgets/base",
            "_view_module_version": "1.2.0",
            "_view_name": "LayoutView",
            "align_content": null,
            "align_items": null,
            "align_self": null,
            "border": null,
            "bottom": null,
            "display": null,
            "flex": null,
            "flex_flow": null,
            "grid_area": null,
            "grid_auto_columns": null,
            "grid_auto_flow": null,
            "grid_auto_rows": null,
            "grid_column": null,
            "grid_gap": null,
            "grid_row": null,
            "grid_template_areas": null,
            "grid_template_columns": null,
            "grid_template_rows": null,
            "height": null,
            "justify_content": null,
            "justify_items": null,
            "left": null,
            "margin": null,
            "max_height": null,
            "max_width": null,
            "min_height": null,
            "min_width": null,
            "object_fit": null,
            "object_position": null,
            "order": null,
            "overflow": null,
            "overflow_x": null,
            "overflow_y": null,
            "padding": null,
            "right": null,
            "top": null,
            "visibility": null,
            "width": null
          }
        },
        "13db78c5e6824bc59e8f4ee97c14bb31": {
          "model_module": "@jupyter-widgets/controls",
          "model_name": "DescriptionStyleModel",
          "model_module_version": "1.5.0",
          "state": {
            "_model_module": "@jupyter-widgets/controls",
            "_model_module_version": "1.5.0",
            "_model_name": "DescriptionStyleModel",
            "_view_count": null,
            "_view_module": "@jupyter-widgets/base",
            "_view_module_version": "1.2.0",
            "_view_name": "StyleView",
            "description_width": ""
          }
        },
        "419159c7a3f04b4e92fefc0381dd9985": {
          "model_module": "@jupyter-widgets/base",
          "model_name": "LayoutModel",
          "model_module_version": "1.2.0",
          "state": {
            "_model_module": "@jupyter-widgets/base",
            "_model_module_version": "1.2.0",
            "_model_name": "LayoutModel",
            "_view_count": null,
            "_view_module": "@jupyter-widgets/base",
            "_view_module_version": "1.2.0",
            "_view_name": "LayoutView",
            "align_content": null,
            "align_items": null,
            "align_self": null,
            "border": null,
            "bottom": null,
            "display": null,
            "flex": null,
            "flex_flow": null,
            "grid_area": null,
            "grid_auto_columns": null,
            "grid_auto_flow": null,
            "grid_auto_rows": null,
            "grid_column": null,
            "grid_gap": null,
            "grid_row": null,
            "grid_template_areas": null,
            "grid_template_columns": null,
            "grid_template_rows": null,
            "height": null,
            "justify_content": null,
            "justify_items": null,
            "left": null,
            "margin": null,
            "max_height": null,
            "max_width": null,
            "min_height": null,
            "min_width": null,
            "object_fit": null,
            "object_position": null,
            "order": null,
            "overflow": null,
            "overflow_x": null,
            "overflow_y": null,
            "padding": null,
            "right": null,
            "top": null,
            "visibility": null,
            "width": null
          }
        },
        "8ae5d001e1eb4f7e856ebf556176e623": {
          "model_module": "@jupyter-widgets/controls",
          "model_name": "ProgressStyleModel",
          "model_module_version": "1.5.0",
          "state": {
            "_model_module": "@jupyter-widgets/controls",
            "_model_module_version": "1.5.0",
            "_model_name": "ProgressStyleModel",
            "_view_count": null,
            "_view_module": "@jupyter-widgets/base",
            "_view_module_version": "1.2.0",
            "_view_name": "StyleView",
            "bar_color": null,
            "description_width": ""
          }
        },
        "555814bc50c54b25a39b35f30805b100": {
          "model_module": "@jupyter-widgets/base",
          "model_name": "LayoutModel",
          "model_module_version": "1.2.0",
          "state": {
            "_model_module": "@jupyter-widgets/base",
            "_model_module_version": "1.2.0",
            "_model_name": "LayoutModel",
            "_view_count": null,
            "_view_module": "@jupyter-widgets/base",
            "_view_module_version": "1.2.0",
            "_view_name": "LayoutView",
            "align_content": null,
            "align_items": null,
            "align_self": null,
            "border": null,
            "bottom": null,
            "display": null,
            "flex": null,
            "flex_flow": null,
            "grid_area": null,
            "grid_auto_columns": null,
            "grid_auto_flow": null,
            "grid_auto_rows": null,
            "grid_column": null,
            "grid_gap": null,
            "grid_row": null,
            "grid_template_areas": null,
            "grid_template_columns": null,
            "grid_template_rows": null,
            "height": null,
            "justify_content": null,
            "justify_items": null,
            "left": null,
            "margin": null,
            "max_height": null,
            "max_width": null,
            "min_height": null,
            "min_width": null,
            "object_fit": null,
            "object_position": null,
            "order": null,
            "overflow": null,
            "overflow_x": null,
            "overflow_y": null,
            "padding": null,
            "right": null,
            "top": null,
            "visibility": null,
            "width": null
          }
        },
        "01659a40fa9a4b9f8212d6532d49e973": {
          "model_module": "@jupyter-widgets/controls",
          "model_name": "DescriptionStyleModel",
          "model_module_version": "1.5.0",
          "state": {
            "_model_module": "@jupyter-widgets/controls",
            "_model_module_version": "1.5.0",
            "_model_name": "DescriptionStyleModel",
            "_view_count": null,
            "_view_module": "@jupyter-widgets/base",
            "_view_module_version": "1.2.0",
            "_view_name": "StyleView",
            "description_width": ""
          }
        },
        "d8c16c3958cf450e9b59a5d66f230ecc": {
          "model_module": "@jupyter-widgets/controls",
          "model_name": "HBoxModel",
          "model_module_version": "1.5.0",
          "state": {
            "_dom_classes": [],
            "_model_module": "@jupyter-widgets/controls",
            "_model_module_version": "1.5.0",
            "_model_name": "HBoxModel",
            "_view_count": null,
            "_view_module": "@jupyter-widgets/controls",
            "_view_module_version": "1.5.0",
            "_view_name": "HBoxView",
            "box_style": "",
            "children": [
              "IPY_MODEL_c8a3ebebea8c405c937d8be5970577c8",
              "IPY_MODEL_3b949941a04f41e2a7d776c1a9c968e8",
              "IPY_MODEL_a06089be9ca54251ba68db42808dc075"
            ],
            "layout": "IPY_MODEL_b29af0a6d07a4aa18fb6409fe33655da"
          }
        },
        "c8a3ebebea8c405c937d8be5970577c8": {
          "model_module": "@jupyter-widgets/controls",
          "model_name": "HTMLModel",
          "model_module_version": "1.5.0",
          "state": {
            "_dom_classes": [],
            "_model_module": "@jupyter-widgets/controls",
            "_model_module_version": "1.5.0",
            "_model_name": "HTMLModel",
            "_view_count": null,
            "_view_module": "@jupyter-widgets/controls",
            "_view_module_version": "1.5.0",
            "_view_name": "HTMLView",
            "description": "",
            "description_tooltip": null,
            "layout": "IPY_MODEL_abd9bce7e74b4e46ae1efcced6e09125",
            "placeholder": "​",
            "style": "IPY_MODEL_0cbf6d11b09a47189b6e00f31cdab58b",
            "value": "merges.txt: 100%"
          }
        },
        "3b949941a04f41e2a7d776c1a9c968e8": {
          "model_module": "@jupyter-widgets/controls",
          "model_name": "FloatProgressModel",
          "model_module_version": "1.5.0",
          "state": {
            "_dom_classes": [],
            "_model_module": "@jupyter-widgets/controls",
            "_model_module_version": "1.5.0",
            "_model_name": "FloatProgressModel",
            "_view_count": null,
            "_view_module": "@jupyter-widgets/controls",
            "_view_module_version": "1.5.0",
            "_view_name": "ProgressView",
            "bar_style": "success",
            "description": "",
            "description_tooltip": null,
            "layout": "IPY_MODEL_16d2d892f6124d659e78e3ae96548f30",
            "max": 456318,
            "min": 0,
            "orientation": "horizontal",
            "style": "IPY_MODEL_9774cd26524f40a99e8691fe8acd502b",
            "value": 456318
          }
        },
        "a06089be9ca54251ba68db42808dc075": {
          "model_module": "@jupyter-widgets/controls",
          "model_name": "HTMLModel",
          "model_module_version": "1.5.0",
          "state": {
            "_dom_classes": [],
            "_model_module": "@jupyter-widgets/controls",
            "_model_module_version": "1.5.0",
            "_model_name": "HTMLModel",
            "_view_count": null,
            "_view_module": "@jupyter-widgets/controls",
            "_view_module_version": "1.5.0",
            "_view_name": "HTMLView",
            "description": "",
            "description_tooltip": null,
            "layout": "IPY_MODEL_30e4fe7c0986499292d7036516b03a95",
            "placeholder": "​",
            "style": "IPY_MODEL_fb1b6524d8a34dbe94469933ccf7139b",
            "value": " 456k/456k [00:00&lt;00:00, 31.0MB/s]"
          }
        },
        "b29af0a6d07a4aa18fb6409fe33655da": {
          "model_module": "@jupyter-widgets/base",
          "model_name": "LayoutModel",
          "model_module_version": "1.2.0",
          "state": {
            "_model_module": "@jupyter-widgets/base",
            "_model_module_version": "1.2.0",
            "_model_name": "LayoutModel",
            "_view_count": null,
            "_view_module": "@jupyter-widgets/base",
            "_view_module_version": "1.2.0",
            "_view_name": "LayoutView",
            "align_content": null,
            "align_items": null,
            "align_self": null,
            "border": null,
            "bottom": null,
            "display": null,
            "flex": null,
            "flex_flow": null,
            "grid_area": null,
            "grid_auto_columns": null,
            "grid_auto_flow": null,
            "grid_auto_rows": null,
            "grid_column": null,
            "grid_gap": null,
            "grid_row": null,
            "grid_template_areas": null,
            "grid_template_columns": null,
            "grid_template_rows": null,
            "height": null,
            "justify_content": null,
            "justify_items": null,
            "left": null,
            "margin": null,
            "max_height": null,
            "max_width": null,
            "min_height": null,
            "min_width": null,
            "object_fit": null,
            "object_position": null,
            "order": null,
            "overflow": null,
            "overflow_x": null,
            "overflow_y": null,
            "padding": null,
            "right": null,
            "top": null,
            "visibility": null,
            "width": null
          }
        },
        "abd9bce7e74b4e46ae1efcced6e09125": {
          "model_module": "@jupyter-widgets/base",
          "model_name": "LayoutModel",
          "model_module_version": "1.2.0",
          "state": {
            "_model_module": "@jupyter-widgets/base",
            "_model_module_version": "1.2.0",
            "_model_name": "LayoutModel",
            "_view_count": null,
            "_view_module": "@jupyter-widgets/base",
            "_view_module_version": "1.2.0",
            "_view_name": "LayoutView",
            "align_content": null,
            "align_items": null,
            "align_self": null,
            "border": null,
            "bottom": null,
            "display": null,
            "flex": null,
            "flex_flow": null,
            "grid_area": null,
            "grid_auto_columns": null,
            "grid_auto_flow": null,
            "grid_auto_rows": null,
            "grid_column": null,
            "grid_gap": null,
            "grid_row": null,
            "grid_template_areas": null,
            "grid_template_columns": null,
            "grid_template_rows": null,
            "height": null,
            "justify_content": null,
            "justify_items": null,
            "left": null,
            "margin": null,
            "max_height": null,
            "max_width": null,
            "min_height": null,
            "min_width": null,
            "object_fit": null,
            "object_position": null,
            "order": null,
            "overflow": null,
            "overflow_x": null,
            "overflow_y": null,
            "padding": null,
            "right": null,
            "top": null,
            "visibility": null,
            "width": null
          }
        },
        "0cbf6d11b09a47189b6e00f31cdab58b": {
          "model_module": "@jupyter-widgets/controls",
          "model_name": "DescriptionStyleModel",
          "model_module_version": "1.5.0",
          "state": {
            "_model_module": "@jupyter-widgets/controls",
            "_model_module_version": "1.5.0",
            "_model_name": "DescriptionStyleModel",
            "_view_count": null,
            "_view_module": "@jupyter-widgets/base",
            "_view_module_version": "1.2.0",
            "_view_name": "StyleView",
            "description_width": ""
          }
        },
        "16d2d892f6124d659e78e3ae96548f30": {
          "model_module": "@jupyter-widgets/base",
          "model_name": "LayoutModel",
          "model_module_version": "1.2.0",
          "state": {
            "_model_module": "@jupyter-widgets/base",
            "_model_module_version": "1.2.0",
            "_model_name": "LayoutModel",
            "_view_count": null,
            "_view_module": "@jupyter-widgets/base",
            "_view_module_version": "1.2.0",
            "_view_name": "LayoutView",
            "align_content": null,
            "align_items": null,
            "align_self": null,
            "border": null,
            "bottom": null,
            "display": null,
            "flex": null,
            "flex_flow": null,
            "grid_area": null,
            "grid_auto_columns": null,
            "grid_auto_flow": null,
            "grid_auto_rows": null,
            "grid_column": null,
            "grid_gap": null,
            "grid_row": null,
            "grid_template_areas": null,
            "grid_template_columns": null,
            "grid_template_rows": null,
            "height": null,
            "justify_content": null,
            "justify_items": null,
            "left": null,
            "margin": null,
            "max_height": null,
            "max_width": null,
            "min_height": null,
            "min_width": null,
            "object_fit": null,
            "object_position": null,
            "order": null,
            "overflow": null,
            "overflow_x": null,
            "overflow_y": null,
            "padding": null,
            "right": null,
            "top": null,
            "visibility": null,
            "width": null
          }
        },
        "9774cd26524f40a99e8691fe8acd502b": {
          "model_module": "@jupyter-widgets/controls",
          "model_name": "ProgressStyleModel",
          "model_module_version": "1.5.0",
          "state": {
            "_model_module": "@jupyter-widgets/controls",
            "_model_module_version": "1.5.0",
            "_model_name": "ProgressStyleModel",
            "_view_count": null,
            "_view_module": "@jupyter-widgets/base",
            "_view_module_version": "1.2.0",
            "_view_name": "StyleView",
            "bar_color": null,
            "description_width": ""
          }
        },
        "30e4fe7c0986499292d7036516b03a95": {
          "model_module": "@jupyter-widgets/base",
          "model_name": "LayoutModel",
          "model_module_version": "1.2.0",
          "state": {
            "_model_module": "@jupyter-widgets/base",
            "_model_module_version": "1.2.0",
            "_model_name": "LayoutModel",
            "_view_count": null,
            "_view_module": "@jupyter-widgets/base",
            "_view_module_version": "1.2.0",
            "_view_name": "LayoutView",
            "align_content": null,
            "align_items": null,
            "align_self": null,
            "border": null,
            "bottom": null,
            "display": null,
            "flex": null,
            "flex_flow": null,
            "grid_area": null,
            "grid_auto_columns": null,
            "grid_auto_flow": null,
            "grid_auto_rows": null,
            "grid_column": null,
            "grid_gap": null,
            "grid_row": null,
            "grid_template_areas": null,
            "grid_template_columns": null,
            "grid_template_rows": null,
            "height": null,
            "justify_content": null,
            "justify_items": null,
            "left": null,
            "margin": null,
            "max_height": null,
            "max_width": null,
            "min_height": null,
            "min_width": null,
            "object_fit": null,
            "object_position": null,
            "order": null,
            "overflow": null,
            "overflow_x": null,
            "overflow_y": null,
            "padding": null,
            "right": null,
            "top": null,
            "visibility": null,
            "width": null
          }
        },
        "fb1b6524d8a34dbe94469933ccf7139b": {
          "model_module": "@jupyter-widgets/controls",
          "model_name": "DescriptionStyleModel",
          "model_module_version": "1.5.0",
          "state": {
            "_model_module": "@jupyter-widgets/controls",
            "_model_module_version": "1.5.0",
            "_model_name": "DescriptionStyleModel",
            "_view_count": null,
            "_view_module": "@jupyter-widgets/base",
            "_view_module_version": "1.2.0",
            "_view_name": "StyleView",
            "description_width": ""
          }
        },
        "b4c1cee6eb154bae94f0b763b73ac89d": {
          "model_module": "@jupyter-widgets/controls",
          "model_name": "HBoxModel",
          "model_module_version": "1.5.0",
          "state": {
            "_dom_classes": [],
            "_model_module": "@jupyter-widgets/controls",
            "_model_module_version": "1.5.0",
            "_model_name": "HBoxModel",
            "_view_count": null,
            "_view_module": "@jupyter-widgets/controls",
            "_view_module_version": "1.5.0",
            "_view_name": "HBoxView",
            "box_style": "",
            "children": [
              "IPY_MODEL_72abfaa3676b4353b7ae121797244254",
              "IPY_MODEL_7a6d02ba794944e2a77e5ad0784f33db",
              "IPY_MODEL_83a56cdcdcb14be581ecc682e8cb2daf"
            ],
            "layout": "IPY_MODEL_50be42a251ea4ede9af29cdbe4b29b26"
          }
        },
        "72abfaa3676b4353b7ae121797244254": {
          "model_module": "@jupyter-widgets/controls",
          "model_name": "HTMLModel",
          "model_module_version": "1.5.0",
          "state": {
            "_dom_classes": [],
            "_model_module": "@jupyter-widgets/controls",
            "_model_module_version": "1.5.0",
            "_model_name": "HTMLModel",
            "_view_count": null,
            "_view_module": "@jupyter-widgets/controls",
            "_view_module_version": "1.5.0",
            "_view_name": "HTMLView",
            "description": "",
            "description_tooltip": null,
            "layout": "IPY_MODEL_706e918e1d6b4f7e9a45bd9be339b5b1",
            "placeholder": "​",
            "style": "IPY_MODEL_d8107163c4de435e93dae4b4d8af5d80",
            "value": "tokenizer.json: 100%"
          }
        },
        "7a6d02ba794944e2a77e5ad0784f33db": {
          "model_module": "@jupyter-widgets/controls",
          "model_name": "FloatProgressModel",
          "model_module_version": "1.5.0",
          "state": {
            "_dom_classes": [],
            "_model_module": "@jupyter-widgets/controls",
            "_model_module_version": "1.5.0",
            "_model_name": "FloatProgressModel",
            "_view_count": null,
            "_view_module": "@jupyter-widgets/controls",
            "_view_module_version": "1.5.0",
            "_view_name": "ProgressView",
            "bar_style": "success",
            "description": "",
            "description_tooltip": null,
            "layout": "IPY_MODEL_9cb728205f98481cb907447f9f27482a",
            "max": 1355863,
            "min": 0,
            "orientation": "horizontal",
            "style": "IPY_MODEL_d0d1ec7c16a44b13a17eef619032a301",
            "value": 1355863
          }
        },
        "83a56cdcdcb14be581ecc682e8cb2daf": {
          "model_module": "@jupyter-widgets/controls",
          "model_name": "HTMLModel",
          "model_module_version": "1.5.0",
          "state": {
            "_dom_classes": [],
            "_model_module": "@jupyter-widgets/controls",
            "_model_module_version": "1.5.0",
            "_model_name": "HTMLModel",
            "_view_count": null,
            "_view_module": "@jupyter-widgets/controls",
            "_view_module_version": "1.5.0",
            "_view_name": "HTMLView",
            "description": "",
            "description_tooltip": null,
            "layout": "IPY_MODEL_b6b306bdc3cc43799fa0dfbf0602da62",
            "placeholder": "​",
            "style": "IPY_MODEL_76cf667a35b24bdeafd79f84faabbef8",
            "value": " 1.36M/1.36M [00:00&lt;00:00, 5.07MB/s]"
          }
        },
        "50be42a251ea4ede9af29cdbe4b29b26": {
          "model_module": "@jupyter-widgets/base",
          "model_name": "LayoutModel",
          "model_module_version": "1.2.0",
          "state": {
            "_model_module": "@jupyter-widgets/base",
            "_model_module_version": "1.2.0",
            "_model_name": "LayoutModel",
            "_view_count": null,
            "_view_module": "@jupyter-widgets/base",
            "_view_module_version": "1.2.0",
            "_view_name": "LayoutView",
            "align_content": null,
            "align_items": null,
            "align_self": null,
            "border": null,
            "bottom": null,
            "display": null,
            "flex": null,
            "flex_flow": null,
            "grid_area": null,
            "grid_auto_columns": null,
            "grid_auto_flow": null,
            "grid_auto_rows": null,
            "grid_column": null,
            "grid_gap": null,
            "grid_row": null,
            "grid_template_areas": null,
            "grid_template_columns": null,
            "grid_template_rows": null,
            "height": null,
            "justify_content": null,
            "justify_items": null,
            "left": null,
            "margin": null,
            "max_height": null,
            "max_width": null,
            "min_height": null,
            "min_width": null,
            "object_fit": null,
            "object_position": null,
            "order": null,
            "overflow": null,
            "overflow_x": null,
            "overflow_y": null,
            "padding": null,
            "right": null,
            "top": null,
            "visibility": null,
            "width": null
          }
        },
        "706e918e1d6b4f7e9a45bd9be339b5b1": {
          "model_module": "@jupyter-widgets/base",
          "model_name": "LayoutModel",
          "model_module_version": "1.2.0",
          "state": {
            "_model_module": "@jupyter-widgets/base",
            "_model_module_version": "1.2.0",
            "_model_name": "LayoutModel",
            "_view_count": null,
            "_view_module": "@jupyter-widgets/base",
            "_view_module_version": "1.2.0",
            "_view_name": "LayoutView",
            "align_content": null,
            "align_items": null,
            "align_self": null,
            "border": null,
            "bottom": null,
            "display": null,
            "flex": null,
            "flex_flow": null,
            "grid_area": null,
            "grid_auto_columns": null,
            "grid_auto_flow": null,
            "grid_auto_rows": null,
            "grid_column": null,
            "grid_gap": null,
            "grid_row": null,
            "grid_template_areas": null,
            "grid_template_columns": null,
            "grid_template_rows": null,
            "height": null,
            "justify_content": null,
            "justify_items": null,
            "left": null,
            "margin": null,
            "max_height": null,
            "max_width": null,
            "min_height": null,
            "min_width": null,
            "object_fit": null,
            "object_position": null,
            "order": null,
            "overflow": null,
            "overflow_x": null,
            "overflow_y": null,
            "padding": null,
            "right": null,
            "top": null,
            "visibility": null,
            "width": null
          }
        },
        "d8107163c4de435e93dae4b4d8af5d80": {
          "model_module": "@jupyter-widgets/controls",
          "model_name": "DescriptionStyleModel",
          "model_module_version": "1.5.0",
          "state": {
            "_model_module": "@jupyter-widgets/controls",
            "_model_module_version": "1.5.0",
            "_model_name": "DescriptionStyleModel",
            "_view_count": null,
            "_view_module": "@jupyter-widgets/base",
            "_view_module_version": "1.2.0",
            "_view_name": "StyleView",
            "description_width": ""
          }
        },
        "9cb728205f98481cb907447f9f27482a": {
          "model_module": "@jupyter-widgets/base",
          "model_name": "LayoutModel",
          "model_module_version": "1.2.0",
          "state": {
            "_model_module": "@jupyter-widgets/base",
            "_model_module_version": "1.2.0",
            "_model_name": "LayoutModel",
            "_view_count": null,
            "_view_module": "@jupyter-widgets/base",
            "_view_module_version": "1.2.0",
            "_view_name": "LayoutView",
            "align_content": null,
            "align_items": null,
            "align_self": null,
            "border": null,
            "bottom": null,
            "display": null,
            "flex": null,
            "flex_flow": null,
            "grid_area": null,
            "grid_auto_columns": null,
            "grid_auto_flow": null,
            "grid_auto_rows": null,
            "grid_column": null,
            "grid_gap": null,
            "grid_row": null,
            "grid_template_areas": null,
            "grid_template_columns": null,
            "grid_template_rows": null,
            "height": null,
            "justify_content": null,
            "justify_items": null,
            "left": null,
            "margin": null,
            "max_height": null,
            "max_width": null,
            "min_height": null,
            "min_width": null,
            "object_fit": null,
            "object_position": null,
            "order": null,
            "overflow": null,
            "overflow_x": null,
            "overflow_y": null,
            "padding": null,
            "right": null,
            "top": null,
            "visibility": null,
            "width": null
          }
        },
        "d0d1ec7c16a44b13a17eef619032a301": {
          "model_module": "@jupyter-widgets/controls",
          "model_name": "ProgressStyleModel",
          "model_module_version": "1.5.0",
          "state": {
            "_model_module": "@jupyter-widgets/controls",
            "_model_module_version": "1.5.0",
            "_model_name": "ProgressStyleModel",
            "_view_count": null,
            "_view_module": "@jupyter-widgets/base",
            "_view_module_version": "1.2.0",
            "_view_name": "StyleView",
            "bar_color": null,
            "description_width": ""
          }
        },
        "b6b306bdc3cc43799fa0dfbf0602da62": {
          "model_module": "@jupyter-widgets/base",
          "model_name": "LayoutModel",
          "model_module_version": "1.2.0",
          "state": {
            "_model_module": "@jupyter-widgets/base",
            "_model_module_version": "1.2.0",
            "_model_name": "LayoutModel",
            "_view_count": null,
            "_view_module": "@jupyter-widgets/base",
            "_view_module_version": "1.2.0",
            "_view_name": "LayoutView",
            "align_content": null,
            "align_items": null,
            "align_self": null,
            "border": null,
            "bottom": null,
            "display": null,
            "flex": null,
            "flex_flow": null,
            "grid_area": null,
            "grid_auto_columns": null,
            "grid_auto_flow": null,
            "grid_auto_rows": null,
            "grid_column": null,
            "grid_gap": null,
            "grid_row": null,
            "grid_template_areas": null,
            "grid_template_columns": null,
            "grid_template_rows": null,
            "height": null,
            "justify_content": null,
            "justify_items": null,
            "left": null,
            "margin": null,
            "max_height": null,
            "max_width": null,
            "min_height": null,
            "min_width": null,
            "object_fit": null,
            "object_position": null,
            "order": null,
            "overflow": null,
            "overflow_x": null,
            "overflow_y": null,
            "padding": null,
            "right": null,
            "top": null,
            "visibility": null,
            "width": null
          }
        },
        "76cf667a35b24bdeafd79f84faabbef8": {
          "model_module": "@jupyter-widgets/controls",
          "model_name": "DescriptionStyleModel",
          "model_module_version": "1.5.0",
          "state": {
            "_model_module": "@jupyter-widgets/controls",
            "_model_module_version": "1.5.0",
            "_model_name": "DescriptionStyleModel",
            "_view_count": null,
            "_view_module": "@jupyter-widgets/base",
            "_view_module_version": "1.2.0",
            "_view_name": "StyleView",
            "description_width": ""
          }
        }
      }
    }
  },
  "cells": [
    {
      "cell_type": "markdown",
      "metadata": {
        "id": "view-in-github",
        "colab_type": "text"
      },
      "source": [
        "<a href=\"https://colab.research.google.com/github/AnkitaSK/Proj3_RoboReviews/blob/main/ReviewsSummarization.ipynb\" target=\"_parent\"><img src=\"https://colab.research.google.com/assets/colab-badge.svg\" alt=\"Open In Colab\"/></a>"
      ]
    },
    {
      "cell_type": "code",
      "execution_count": null,
      "metadata": {
        "id": "dcEd6uE-jb36"
      },
      "outputs": [],
      "source": [
        "import polars as pl\n",
        "from transformers import pipeline"
      ]
    },
    {
      "cell_type": "code",
      "source": [
        "print(pl.__version__)"
      ],
      "metadata": {
        "colab": {
          "base_uri": "https://localhost:8080/"
        },
        "id": "o2YEq27WdYSX",
        "outputId": "4fc3a064-76aa-4936-fc29-fb6ccdbd48d6"
      },
      "execution_count": null,
      "outputs": [
        {
          "output_type": "stream",
          "name": "stdout",
          "text": [
            "1.9.0\n"
          ]
        }
      ]
    },
    {
      "cell_type": "code",
      "source": [
        "!pip install --upgrade polars"
      ],
      "metadata": {
        "colab": {
          "base_uri": "https://localhost:8080/"
        },
        "id": "fILjIIzZdeEy",
        "outputId": "679152d8-ee3f-4d72-fa8d-c3c625c435f9"
      },
      "execution_count": null,
      "outputs": [
        {
          "output_type": "stream",
          "name": "stdout",
          "text": [
            "Requirement already satisfied: polars in /usr/local/lib/python3.10/dist-packages (1.9.0)\n",
            "Collecting polars\n",
            "  Downloading polars-1.17.1-cp39-abi3-manylinux_2_17_x86_64.manylinux2014_x86_64.whl.metadata (14 kB)\n",
            "Downloading polars-1.17.1-cp39-abi3-manylinux_2_17_x86_64.manylinux2014_x86_64.whl (36.4 MB)\n",
            "\u001b[2K   \u001b[90m━━━━━━━━━━━━━━━━━━━━━━━━━━━━━━━━━━━━━━━━\u001b[0m \u001b[32m36.4/36.4 MB\u001b[0m \u001b[31m59.4 MB/s\u001b[0m eta \u001b[36m0:00:00\u001b[0m\n",
            "\u001b[?25hInstalling collected packages: polars\n",
            "  Attempting uninstall: polars\n",
            "    Found existing installation: polars 1.9.0\n",
            "    Uninstalling polars-1.9.0:\n",
            "      Successfully uninstalled polars-1.9.0\n",
            "Successfully installed polars-1.17.1\n"
          ]
        }
      ]
    },
    {
      "cell_type": "code",
      "source": [
        "# Load large CSV file\n",
        "df = pl.read_csv(\"reviews_with_Positive_topics.csv\")"
      ],
      "metadata": {
        "id": "SQ0uYJVOYpqR"
      },
      "execution_count": null,
      "outputs": []
    },
    {
      "cell_type": "code",
      "source": [
        "df_filtered = df.filter(pl.col(\"Topic\") != -1)"
      ],
      "metadata": {
        "id": "iR6JyRnkgih9"
      },
      "execution_count": null,
      "outputs": []
    },
    {
      "cell_type": "code",
      "source": [
        "print(df_filtered.head)"
      ],
      "metadata": {
        "colab": {
          "base_uri": "https://localhost:8080/"
        },
        "id": "EjG6h1ePY2CS",
        "outputId": "ec88e8ad-67c2-476a-92d7-c8fd0b26fb8e"
      },
      "execution_count": null,
      "outputs": [
        {
          "output_type": "stream",
          "name": "stdout",
          "text": [
            "<bound method DataFrame.head of shape: (13_687, 27)\n",
            "┌────────────┬────────────┬────────────┬───────────┬───┬───────────┬───────────┬───────────┬───────┐\n",
            "│ id         ┆ dateAdded  ┆ dateUpdate ┆ name      ┆ … ┆ sourceURL ┆ reviews.r ┆ Sentiment ┆ Topic │\n",
            "│ ---        ┆ ---        ┆ d          ┆ ---       ┆   ┆ s         ┆ ating_upd ┆ ---       ┆ ---   │\n",
            "│ str        ┆ str        ┆ ---        ┆ str       ┆   ┆ ---       ┆ ate       ┆ str       ┆ i64   │\n",
            "│            ┆            ┆ str        ┆           ┆   ┆ str       ┆ ---       ┆           ┆       │\n",
            "│            ┆            ┆            ┆           ┆   ┆           ┆ i64       ┆           ┆       │\n",
            "╞════════════╪════════════╪════════════╪═══════════╪═══╪═══════════╪═══════════╪═══════════╪═══════╡\n",
            "│ AVpgNzjwLJ ┆ 2015-10-30 ┆ 2019-04-25 ┆ AmazonBas ┆ … ┆ https://w ┆ 2         ┆ Positive  ┆ 5     │\n",
            "│ eJML43Kpxn ┆ T08:59:32Z ┆ T09:08:16Z ┆ ics AAA   ┆   ┆ ww.barcod ┆           ┆           ┆       │\n",
            "│            ┆            ┆            ┆ Performan ┆   ┆ able.com/ ┆           ┆           ┆       │\n",
            "│            ┆            ┆            ┆ ce A…     ┆   ┆ upc…      ┆           ┆           ┆       │\n",
            "│ AVpgNzjwLJ ┆ 2015-10-30 ┆ 2019-04-25 ┆ AmazonBas ┆ … ┆ https://w ┆ 2         ┆ Positive  ┆ 0     │\n",
            "│ eJML43Kpxn ┆ T08:59:32Z ┆ T09:08:16Z ┆ ics AAA   ┆   ┆ ww.barcod ┆           ┆           ┆       │\n",
            "│            ┆            ┆            ┆ Performan ┆   ┆ able.com/ ┆           ┆           ┆       │\n",
            "│            ┆            ┆            ┆ ce A…     ┆   ┆ upc…      ┆           ┆           ┆       │\n",
            "│ AVpgNzjwLJ ┆ 2015-10-30 ┆ 2019-04-25 ┆ AmazonBas ┆ … ┆ https://w ┆ 2         ┆ Positive  ┆ 0     │\n",
            "│ eJML43Kpxn ┆ T08:59:32Z ┆ T09:08:16Z ┆ ics AAA   ┆   ┆ ww.barcod ┆           ┆           ┆       │\n",
            "│            ┆            ┆            ┆ Performan ┆   ┆ able.com/ ┆           ┆           ┆       │\n",
            "│            ┆            ┆            ┆ ce A…     ┆   ┆ upc…      ┆           ┆           ┆       │\n",
            "│ AVpgNzjwLJ ┆ 2015-10-30 ┆ 2019-04-25 ┆ AmazonBas ┆ … ┆ https://w ┆ 2         ┆ Positive  ┆ 0     │\n",
            "│ eJML43Kpxn ┆ T08:59:32Z ┆ T09:08:16Z ┆ ics AAA   ┆   ┆ ww.barcod ┆           ┆           ┆       │\n",
            "│            ┆            ┆            ┆ Performan ┆   ┆ able.com/ ┆           ┆           ┆       │\n",
            "│            ┆            ┆            ┆ ce A…     ┆   ┆ upc…      ┆           ┆           ┆       │\n",
            "│ AVpgNzjwLJ ┆ 2015-10-30 ┆ 2019-04-25 ┆ AmazonBas ┆ … ┆ https://w ┆ 2         ┆ Positive  ┆ 5     │\n",
            "│ eJML43Kpxn ┆ T08:59:32Z ┆ T09:08:16Z ┆ ics AAA   ┆   ┆ ww.barcod ┆           ┆           ┆       │\n",
            "│            ┆            ┆            ┆ Performan ┆   ┆ able.com/ ┆           ┆           ┆       │\n",
            "│            ┆            ┆            ┆ ce A…     ┆   ┆ upc…      ┆           ┆           ┆       │\n",
            "│ …          ┆ …          ┆ …          ┆ …         ┆ … ┆ …         ┆ …         ┆ …         ┆ …     │\n",
            "│ AVqkIhxunn ┆ 2017-03-06 ┆ 2019-02-23 ┆ Fire HD 8 ┆ … ┆ http://re ┆ 2         ┆ Positive  ┆ 6     │\n",
            "│ c1JgDc3kg_ ┆ T14:59:43Z ┆ T02:49:38Z ┆ Tablet    ┆   ┆ views.bes ┆           ┆           ┆       │\n",
            "│            ┆            ┆            ┆ with      ┆   ┆ tbuy.com/ ┆           ┆           ┆       │\n",
            "│            ┆            ┆            ┆ Alexa, 8… ┆   ┆ 354…      ┆           ┆           ┆       │\n",
            "│ AVqkIhxunn ┆ 2017-03-06 ┆ 2019-02-23 ┆ Fire HD 8 ┆ … ┆ http://re ┆ 2         ┆ Positive  ┆ 1     │\n",
            "│ c1JgDc3kg_ ┆ T14:59:43Z ┆ T02:49:38Z ┆ Tablet    ┆   ┆ views.bes ┆           ┆           ┆       │\n",
            "│            ┆            ┆            ┆ with      ┆   ┆ tbuy.com/ ┆           ┆           ┆       │\n",
            "│            ┆            ┆            ┆ Alexa, 8… ┆   ┆ 354…      ┆           ┆           ┆       │\n",
            "│ AVqkIhxunn ┆ 2017-03-06 ┆ 2019-02-23 ┆ Fire HD 8 ┆ … ┆ http://re ┆ 2         ┆ Positive  ┆ 1     │\n",
            "│ c1JgDc3kg_ ┆ T14:59:43Z ┆ T02:49:38Z ┆ Tablet    ┆   ┆ views.bes ┆           ┆           ┆       │\n",
            "│            ┆            ┆            ┆ with      ┆   ┆ tbuy.com/ ┆           ┆           ┆       │\n",
            "│            ┆            ┆            ┆ Alexa, 8… ┆   ┆ 354…      ┆           ┆           ┆       │\n",
            "│ AVqkIhxunn ┆ 2017-03-06 ┆ 2019-02-23 ┆ Fire HD 8 ┆ … ┆ http://re ┆ 2         ┆ Positive  ┆ 10    │\n",
            "│ c1JgDc3kg_ ┆ T14:59:43Z ┆ T02:49:38Z ┆ Tablet    ┆   ┆ views.bes ┆           ┆           ┆       │\n",
            "│            ┆            ┆            ┆ with      ┆   ┆ tbuy.com/ ┆           ┆           ┆       │\n",
            "│            ┆            ┆            ┆ Alexa, 8… ┆   ┆ 354…      ┆           ┆           ┆       │\n",
            "│ AVqkIhxunn ┆ 2017-03-06 ┆ 2019-02-23 ┆ Fire HD 8 ┆ … ┆ http://re ┆ 2         ┆ Positive  ┆ 10    │\n",
            "│ c1JgDc3kg_ ┆ T14:59:43Z ┆ T02:49:38Z ┆ Tablet    ┆   ┆ views.bes ┆           ┆           ┆       │\n",
            "│            ┆            ┆            ┆ with      ┆   ┆ tbuy.com/ ┆           ┆           ┆       │\n",
            "│            ┆            ┆            ┆ Alexa, 8… ┆   ┆ 354…      ┆           ┆           ┆       │\n",
            "└────────────┴────────────┴────────────┴───────────┴───┴───────────┴───────────┴───────────┴───────┘>\n"
          ]
        }
      ]
    },
    {
      "cell_type": "code",
      "source": [
        "print(type(df_filtered))"
      ],
      "metadata": {
        "colab": {
          "base_uri": "https://localhost:8080/"
        },
        "id": "2qYYSougb36i",
        "outputId": "e9f4df0e-00cc-4ad7-b854-57b0c8490d2f"
      },
      "execution_count": null,
      "outputs": [
        {
          "output_type": "stream",
          "name": "stdout",
          "text": [
            "<class 'polars.dataframe.frame.DataFrame'>\n"
          ]
        }
      ]
    },
    {
      "cell_type": "code",
      "source": [
        "print(df_filtered.columns)"
      ],
      "metadata": {
        "colab": {
          "base_uri": "https://localhost:8080/"
        },
        "id": "N9od9Jezc-Io",
        "outputId": "c0db0879-fdb8-4bd9-8479-be2bbaf39891"
      },
      "execution_count": null,
      "outputs": [
        {
          "output_type": "stream",
          "name": "stdout",
          "text": [
            "['id', 'dateAdded', 'dateUpdated', 'name', 'asins', 'brand', 'categories', 'primaryCategories', 'imageURLs', 'keys', 'manufacturer', 'manufacturerNumber', 'reviews.date', 'reviews.dateSeen', 'reviews.didPurchase', 'reviews.doRecommend', 'reviews.id', 'reviews.numHelpful', 'reviews.rating', 'reviews.sourceURLs', 'reviews.text', 'reviews.title', 'reviews.username', 'sourceURLs', 'reviews.rating_update', 'Sentiment', 'Topic']\n"
          ]
        }
      ]
    },
    {
      "cell_type": "code",
      "source": [
        "# count the occurence of each topic\n",
        "topic_counts = df_filtered.group_by(\"Topic\").agg(pl.col(\"Topic\").count().alias(\"count\"))\n",
        "\n",
        "# Sort by the count in descending order\n",
        "topic_counts = topic_counts.sort(\"count\", descending=True)\n",
        "print(topic_counts)"
      ],
      "metadata": {
        "colab": {
          "base_uri": "https://localhost:8080/"
        },
        "id": "ff_2_VNzaDv8",
        "outputId": "680cdd32-bfb4-4269-dd67-66212c50be67"
      },
      "execution_count": null,
      "outputs": [
        {
          "output_type": "stream",
          "name": "stdout",
          "text": [
            "shape: (46, 2)\n",
            "┌───────┬───────┐\n",
            "│ Topic ┆ count │\n",
            "│ ---   ┆ ---   │\n",
            "│ i64   ┆ u32   │\n",
            "╞═══════╪═══════╡\n",
            "│ 0     ┆ 3774  │\n",
            "│ 1     ┆ 1172  │\n",
            "│ 2     ┆ 648   │\n",
            "│ 3     ┆ 624   │\n",
            "│ 4     ┆ 554   │\n",
            "│ …     ┆ …     │\n",
            "│ 41    ┆ 90    │\n",
            "│ 42    ┆ 85    │\n",
            "│ 43    ┆ 83    │\n",
            "│ 44    ┆ 83    │\n",
            "│ 45    ┆ 80    │\n",
            "└───────┴───────┘\n"
          ]
        }
      ]
    },
    {
      "cell_type": "code",
      "source": [
        "# Step 2: Select the top_n topics\n",
        "top_n = 8\n",
        "top_topics = topic_counts.head(top_n)[\"Topic\"]"
      ],
      "metadata": {
        "id": "Lrc9AuVseFfx"
      },
      "execution_count": null,
      "outputs": []
    },
    {
      "cell_type": "markdown",
      "source": [
        "#### using facebook/bart-large-cnn"
      ],
      "metadata": {
        "id": "n58sHTrdlAt9"
      }
    },
    {
      "cell_type": "code",
      "source": [
        "# Step 3: Summarize reviews for each topic\n",
        "summarizer = pipeline(\"summarization\", model=\"facebook/bart-large-cnn\")\n",
        "summaries = {}\n",
        "\n",
        "for topic in top_topics:\n",
        "    # Filter reviews for the current topic\n",
        "    filtered_reviews = df_filtered.filter(df_filtered[\"Topic\"] == topic)[\"reviews.text\"].to_list()\n",
        "\n",
        "    # Concatenate reviews into a single string for summarization\n",
        "    concatenated_reviews = \" \".join(filtered_reviews)\n",
        "\n",
        "    # Tokenize and ensure it's within the token limit (e.g., 1024 tokens)\n",
        "    inputs = summarizer.tokenizer(concatenated_reviews, return_tensors=\"pt\", truncation=True, max_length=1024, padding=\"max_length\")\n",
        "\n",
        "    # Summarize the concatenated reviews (using the summarizer)\n",
        "    summary = summarizer.model.generate(inputs[\"input_ids\"], max_length=50, min_length=10, num_beams=2, early_stopping=True)\n",
        "\n",
        "    # Decode the summary\n",
        "    summary_text = summarizer.tokenizer.decode(summary[0], skip_special_tokens=True)\n",
        "\n",
        "    summaries[topic] = summary_text\n",
        "\n",
        "\n",
        "# Print summaries\n",
        "print(summaries)\n",
        "\n"
      ],
      "metadata": {
        "colab": {
          "base_uri": "https://localhost:8080/",
          "height": 265,
          "referenced_widgets": [
            "50b90efb8e5f4e7582317360962c742d",
            "9db8b0b8c1bf4f3287f04110375748f8",
            "87f6a071410f460e8aa4a72022ffb836",
            "b39237c46a364fac867861be5c5d7157",
            "ce79c404cd9d43549272719cca1d5672",
            "484b64a3c4f04045a99c5b1e09c9c794",
            "15a8e957117e46bf99f1e45bf29e547c",
            "9d50579365a24af8afda0cd0de8c24a6",
            "aa57b8c5d76e401294145b58976428ca",
            "c9055769d73743bcb6662dec78c80af6",
            "2da3231db6b741dba13f86181f34beb0",
            "0adabd3e567e4264b094fcb039f3aeb4",
            "4d68626c3cd94a64802d6122cb38fca5",
            "1f3544a6ee9e49d79030be4901fdb094",
            "1aaa229f1d474b81bd75a1eb7f6631e8",
            "2d166b4f285a4b6ab6566b82ad1c9faa",
            "4f6877e4d6c94929b8b12fc930efa0bc",
            "c12a1662661d43bf8e03f40ceddcc360",
            "e8ac9ed5a5f54fb1a28ea4c7b163f4b6",
            "947ec09b19b8447983409fedd402774c",
            "4d877de6bc9040c695b9d2f34875fd0f",
            "fcac2852f14040d2bb133625bea666a9",
            "93a8a8214c2a43a0a68e2c93633ce6b2",
            "80a5bcca8a98428c893bc6dc05ff98c9",
            "c408ce4935e24300826b287b58e3cb13",
            "347d2b3b98334958a93463da42630e15",
            "7fdbfb5aebe94fbc9472f78dd2fc9c84",
            "47032eae82de4fed867c0495d07cf94c",
            "496bb8298d214d7e9b5f12a2d7384659",
            "c109d990e994405fbe5ea56d4aa9ff4e",
            "129ce2e1476240388450101116fd6047",
            "669309b0846345768c4a1612f6652da3",
            "857c222bcbbf4994b4a63fb79fa3bb1a",
            "905768ecc97a445bb1518555256ab9b4",
            "dc87d0ca791a49b8b32c30fa4bbaca8a",
            "609d895098e84715a58481b4e6cdcff5",
            "5dbab56aa2474ec3b1cc4d7360363cad",
            "e1e57f12ab5541ab843f8be5ca77ec76",
            "1d6dce0398024c81ac7b9afbbb2a8fdb",
            "13db78c5e6824bc59e8f4ee97c14bb31",
            "419159c7a3f04b4e92fefc0381dd9985",
            "8ae5d001e1eb4f7e856ebf556176e623",
            "555814bc50c54b25a39b35f30805b100",
            "01659a40fa9a4b9f8212d6532d49e973",
            "d8c16c3958cf450e9b59a5d66f230ecc",
            "c8a3ebebea8c405c937d8be5970577c8",
            "3b949941a04f41e2a7d776c1a9c968e8",
            "a06089be9ca54251ba68db42808dc075",
            "b29af0a6d07a4aa18fb6409fe33655da",
            "abd9bce7e74b4e46ae1efcced6e09125",
            "0cbf6d11b09a47189b6e00f31cdab58b",
            "16d2d892f6124d659e78e3ae96548f30",
            "9774cd26524f40a99e8691fe8acd502b",
            "30e4fe7c0986499292d7036516b03a95",
            "fb1b6524d8a34dbe94469933ccf7139b",
            "b4c1cee6eb154bae94f0b763b73ac89d",
            "72abfaa3676b4353b7ae121797244254",
            "7a6d02ba794944e2a77e5ad0784f33db",
            "83a56cdcdcb14be581ecc682e8cb2daf",
            "50be42a251ea4ede9af29cdbe4b29b26",
            "706e918e1d6b4f7e9a45bd9be339b5b1",
            "d8107163c4de435e93dae4b4d8af5d80",
            "9cb728205f98481cb907447f9f27482a",
            "d0d1ec7c16a44b13a17eef619032a301",
            "b6b306bdc3cc43799fa0dfbf0602da62",
            "76cf667a35b24bdeafd79f84faabbef8"
          ]
        },
        "id": "LBwLHFqceLp5",
        "outputId": "20eecfa7-4eb6-4e36-8dfb-75485eb571f1"
      },
      "execution_count": null,
      "outputs": [
        {
          "output_type": "display_data",
          "data": {
            "text/plain": [
              "config.json:   0%|          | 0.00/1.58k [00:00<?, ?B/s]"
            ],
            "application/vnd.jupyter.widget-view+json": {
              "version_major": 2,
              "version_minor": 0,
              "model_id": "50b90efb8e5f4e7582317360962c742d"
            }
          },
          "metadata": {}
        },
        {
          "output_type": "display_data",
          "data": {
            "text/plain": [
              "model.safetensors:   0%|          | 0.00/1.63G [00:00<?, ?B/s]"
            ],
            "application/vnd.jupyter.widget-view+json": {
              "version_major": 2,
              "version_minor": 0,
              "model_id": "0adabd3e567e4264b094fcb039f3aeb4"
            }
          },
          "metadata": {}
        },
        {
          "output_type": "display_data",
          "data": {
            "text/plain": [
              "generation_config.json:   0%|          | 0.00/363 [00:00<?, ?B/s]"
            ],
            "application/vnd.jupyter.widget-view+json": {
              "version_major": 2,
              "version_minor": 0,
              "model_id": "93a8a8214c2a43a0a68e2c93633ce6b2"
            }
          },
          "metadata": {}
        },
        {
          "output_type": "display_data",
          "data": {
            "text/plain": [
              "vocab.json:   0%|          | 0.00/899k [00:00<?, ?B/s]"
            ],
            "application/vnd.jupyter.widget-view+json": {
              "version_major": 2,
              "version_minor": 0,
              "model_id": "905768ecc97a445bb1518555256ab9b4"
            }
          },
          "metadata": {}
        },
        {
          "output_type": "display_data",
          "data": {
            "text/plain": [
              "merges.txt:   0%|          | 0.00/456k [00:00<?, ?B/s]"
            ],
            "application/vnd.jupyter.widget-view+json": {
              "version_major": 2,
              "version_minor": 0,
              "model_id": "d8c16c3958cf450e9b59a5d66f230ecc"
            }
          },
          "metadata": {}
        },
        {
          "output_type": "display_data",
          "data": {
            "text/plain": [
              "tokenizer.json:   0%|          | 0.00/1.36M [00:00<?, ?B/s]"
            ],
            "application/vnd.jupyter.widget-view+json": {
              "version_major": 2,
              "version_minor": 0,
              "model_id": "b4c1cee6eb154bae94f0b763b73ac89d"
            }
          },
          "metadata": {}
        },
        {
          "output_type": "stream",
          "name": "stderr",
          "text": [
            "Hardware accelerator e.g. GPU is available in the environment, but no `device` argument is passed to the `Pipeline` object. Model will be on CPU.\n"
          ]
        },
        {
          "output_type": "stream",
          "name": "stdout",
          "text": [
            "{0: 'AmazonBasics AA AAA batteries have done well by me appear to have a good shelf life. Will buy again.Seem to work as well as name brand batteries at a much better price These batteries are very long lasting the price is', 1: \"I like the Amazon line of Basics. Nothing fancy, they just work. Can't go wrong with Amazon basics. Great bang for your buck. Greatest deal on the planet! Cheaper than my local box store. Great value.\", 2: 'The Amazon Echo is a really fun thing to play with. We always try to find new things to say to it which would make it say something funny. The Echo has been the most helpful in our home for creating shopping lists.', 3: 'The modified Android operating system with Amazon features built-in is great. It has a 1.3 gigahertz processor, meaning for such a small device that decently enough. Internal memory is 8 gigs but you can expand to', 4: \"They don't last as long as the brand name but are good enough considering they are much cheaper. They seem to work okay so far and the price was great. Seem to hold up as well as any name brand and at a\", 5: \"These batteries are way better than Kirkland, Energizer and Duracell. They come in individual packs of 4, inside a white box to keep them in. They're batteries. Significantly more cost effective than Duracel\", 6: 'This tablet does it all and makes for an excellent e-reader, while also boasting specifications that rival any iPad. It uses their version of the Android OS which they call the Fire OS which is decently responsive and fairly intuitive to use', 7: 'great still working fine Excellent product!!! Last long, no problems. Excellent... facemask : ) :) :) :) 5 stars 5 Stars amazing Amazing! As shown. Awesome product I would recommend this to anyone. excellent Excellent excellent Excellent product'}\n"
          ]
        }
      ]
    },
    {
      "cell_type": "code",
      "source": [
        "# Step 4: Print the summaries\n",
        "for topic, summary in summaries.items():\n",
        "   print(f\"Topic {topic}: {summary}\")"
      ],
      "metadata": {
        "colab": {
          "base_uri": "https://localhost:8080/"
        },
        "id": "nB8rkINTimSb",
        "outputId": "79325cda-95fa-422b-f0df-6d1d98430a81"
      },
      "execution_count": null,
      "outputs": [
        {
          "output_type": "stream",
          "name": "stdout",
          "text": [
            "Topic 0: AmazonBasics AA AAA batteries have done well by me appear to have a good shelf life. Will buy again.Seem to work as well as name brand batteries at a much better price These batteries are very long lasting the price is\n",
            "Topic 1: I like the Amazon line of Basics. Nothing fancy, they just work. Can't go wrong with Amazon basics. Great bang for your buck. Greatest deal on the planet! Cheaper than my local box store. Great value.\n",
            "Topic 2: The Amazon Echo is a really fun thing to play with. We always try to find new things to say to it which would make it say something funny. The Echo has been the most helpful in our home for creating shopping lists.\n",
            "Topic 3: The modified Android operating system with Amazon features built-in is great. It has a 1.3 gigahertz processor, meaning for such a small device that decently enough. Internal memory is 8 gigs but you can expand to\n",
            "Topic 4: They don't last as long as the brand name but are good enough considering they are much cheaper. They seem to work okay so far and the price was great. Seem to hold up as well as any name brand and at a\n",
            "Topic 5: These batteries are way better than Kirkland, Energizer and Duracell. They come in individual packs of 4, inside a white box to keep them in. They're batteries. Significantly more cost effective than Duracel\n",
            "Topic 6: This tablet does it all and makes for an excellent e-reader, while also boasting specifications that rival any iPad. It uses their version of the Android OS which they call the Fire OS which is decently responsive and fairly intuitive to use\n",
            "Topic 7: great still working fine Excellent product!!! Last long, no problems. Excellent... facemask : ) :) :) :) 5 stars 5 Stars amazing Amazing! As shown. Awesome product I would recommend this to anyone. excellent Excellent excellent Excellent product\n"
          ]
        }
      ]
    },
    {
      "cell_type": "markdown",
      "source": [
        "#### using gpt-3.5-turbo"
      ],
      "metadata": {
        "id": "z4HNkAehlH_J"
      }
    },
    {
      "cell_type": "code",
      "source": [
        "from google.colab import userdata\n",
        "OPENAI_API_KEY  = userdata.get('OPENAI_API_KEY')"
      ],
      "metadata": {
        "id": "SLziJahAe7p5"
      },
      "execution_count": 1,
      "outputs": []
    },
    {
      "cell_type": "code",
      "source": [
        "import polars as pl"
      ],
      "metadata": {
        "id": "McMvZdPlecYC"
      },
      "execution_count": 5,
      "outputs": []
    },
    {
      "cell_type": "code",
      "source": [
        "df = pl.read_csv(\"reviews_with_Positive_topics.csv\")"
      ],
      "metadata": {
        "id": "PBSU_pRCek51"
      },
      "execution_count": 7,
      "outputs": []
    },
    {
      "cell_type": "code",
      "source": [
        "df_filtered = df.filter(pl.col(\"Topic\") != -1)"
      ],
      "metadata": {
        "id": "9lIU1BrbenDF"
      },
      "execution_count": 8,
      "outputs": []
    },
    {
      "cell_type": "code",
      "source": [
        "topic_counts = df_filtered.group_by(\"Topic\").agg(pl.col(\"Topic\").count().alias(\"count\"))\n",
        "\n",
        "# Sort by the count in descending order\n",
        "topic_counts = topic_counts.sort(\"count\", descending=True)\n",
        "print(topic_counts)"
      ],
      "metadata": {
        "colab": {
          "base_uri": "https://localhost:8080/"
        },
        "id": "5yxyZpyoeoe-",
        "outputId": "bbbb586a-753b-4c62-f157-d77fbe4403e8"
      },
      "execution_count": 9,
      "outputs": [
        {
          "output_type": "stream",
          "name": "stdout",
          "text": [
            "shape: (46, 2)\n",
            "┌───────┬───────┐\n",
            "│ Topic ┆ count │\n",
            "│ ---   ┆ ---   │\n",
            "│ i64   ┆ u32   │\n",
            "╞═══════╪═══════╡\n",
            "│ 0     ┆ 3774  │\n",
            "│ 1     ┆ 1172  │\n",
            "│ 2     ┆ 648   │\n",
            "│ 3     ┆ 624   │\n",
            "│ 4     ┆ 554   │\n",
            "│ …     ┆ …     │\n",
            "│ 41    ┆ 90    │\n",
            "│ 42    ┆ 85    │\n",
            "│ 43    ┆ 83    │\n",
            "│ 44    ┆ 83    │\n",
            "│ 45    ┆ 80    │\n",
            "└───────┴───────┘\n"
          ]
        }
      ]
    },
    {
      "cell_type": "code",
      "source": [
        "# Step 2: Select the top_n topics\n",
        "top_n = 8\n",
        "top_topics = topic_counts.head(top_n)[\"Topic\"]"
      ],
      "metadata": {
        "id": "egk4Xlw3ep-H"
      },
      "execution_count": 10,
      "outputs": []
    },
    {
      "cell_type": "code",
      "source": [
        "from openai import OpenAI"
      ],
      "metadata": {
        "id": "262C3zMBe1DP"
      },
      "execution_count": 11,
      "outputs": []
    },
    {
      "cell_type": "code",
      "source": [
        "client = OpenAI(\n",
        "    # This is the default and can be omitted\n",
        "    api_key= userdata.get('OPENAI_API_KEY'),\n",
        ")\n",
        "\n",
        "# Define function for generating summaries\n",
        "def get_completion2(prompt, model=\"gpt-4o\"):\n",
        "    response = client.chat.completions.create(\n",
        "        model=model,\n",
        "        messages=[{\"role\": \"user\", \"content\": prompt}],\n",
        "        temperature=0,  # You can adjust temperature for creativity\n",
        "        max_tokens=150  # Limit summary length\n",
        "    )\n",
        "    return response.choices[0].message.content"
      ],
      "metadata": {
        "id": "IKTFrbJheuYO"
      },
      "execution_count": 12,
      "outputs": []
    },
    {
      "cell_type": "code",
      "source": [
        "from google.colab import userdata"
      ],
      "metadata": {
        "id": "ac0qNWZgC8P3"
      },
      "execution_count": 3,
      "outputs": []
    },
    {
      "cell_type": "code",
      "source": [
        "# Max token limit for gpt-3.5-turbo\n",
        "MAX_TOKENS = 4096  # Adjust based on model's token limit\n",
        "\n",
        "# Function to split text into chunks of manageable token length\n",
        "def chunk_reviews(text, max_tokens=MAX_TOKENS):\n",
        "    # Estimate the number of tokens (simple word-based approximation)\n",
        "    tokens = text.split()\n",
        "    num_chunks = (len(tokens) // max_tokens) + 1\n",
        "    chunks = [tokens[i * max_tokens: (i + 1) * max_tokens] for i in range(num_chunks)]\n",
        "    return [' '.join(chunk) for chunk in chunks]\n",
        "\n",
        "# Loop through topics and generate summaries\n",
        "summaries = {}\n",
        "\n",
        "for topic in top_topics:\n",
        "    # Efficient filtering of reviews based on the current topic using Polars\n",
        "    filtered_reviews = df_filtered.filter(pl.col(\"Topic\") == topic)[\"reviews.text\"].to_list()\n",
        "\n",
        "    # Concatenate reviews into a single string for summarization\n",
        "    concatenated_reviews = \" \".join(filtered_reviews)\n",
        "\n",
        "    # Check if the concatenated reviews exceed token limits\n",
        "    if len(concatenated_reviews.split()) > MAX_TOKENS:\n",
        "        # Split reviews into chunks\n",
        "        chunks = chunk_reviews(concatenated_reviews, max_tokens=MAX_TOKENS)\n",
        "\n",
        "        chunk_summaries = []\n",
        "        for i, chunk in enumerate(chunks):\n",
        "            prompt = f\"\"\"\n",
        "            Your task is to generate a short summary of a product review from an ecommerce site.\n",
        "\n",
        "            Summarize the review below, delimited by triple backticks in at most 20 words.\n",
        "\n",
        "            Review: ```{chunk}```\n",
        "            \"\"\"\n",
        "            response = get_completion2(prompt)\n",
        "            chunk_summaries.append(response)\n",
        "            # print(f\"Chunk {i+1} Summary: {response}\\n\")\n",
        "\n",
        "        # Combine summaries from all chunks\n",
        "        summaries[topic] = \" \".join(chunk_summaries)\n",
        "    else:\n",
        "        # Summarize the entire review if it's under the token limit\n",
        "        prompt = f\"\"\"\n",
        "        Your task is to generate a short summary of a product review from an ecommerce site.\n",
        "\n",
        "        Summarize the review below, delimited by triple backticks in at most 20 words.\n",
        "\n",
        "        Review: ```{concatenated_reviews}```\n",
        "        \"\"\"\n",
        "        summary_text = get_completion2(prompt)\n",
        "        summaries[topic] = summary_text\n",
        "        # print(f\"Summary for topic {topic}: {summary_text}\\n\")\n",
        "\n",
        "# Print the summaries\n",
        "for topic, summary in summaries.items():\n",
        "    print(f\"Topic {topic} Summary: {summary}\\n\")"
      ],
      "metadata": {
        "colab": {
          "base_uri": "https://localhost:8080/"
        },
        "id": "046oo3WzeyF7",
        "outputId": "5aeb89ac-c636-499a-8c4a-c20f0458ae1a"
      },
      "execution_count": 13,
      "outputs": [
        {
          "output_type": "stream",
          "name": "stdout",
          "text": [
            "Topic 0 Summary: AmazonBasics batteries offer comparable performance to name brands at a lower price, with long-lasting power and convenient packaging. AmazonBasics batteries offer excellent performance and value, rivaling major brands at a fraction of the cost. Highly recommended. Amazon Basics batteries offer excellent value, comparable performance to top brands, and are ideal for frequent battery users. Amazon Basics batteries offer comparable performance to major brands at a lower price, with convenient delivery. Amazon Basics batteries offer great value, comparable performance to name brands, and are cost-effective for bulk purchases. AmazonBasics batteries are affordable, long-lasting, and comparable to name brands, making them a great value purchase. AmazonBasics AAA batteries offer good quality and value, comparable to name brands, with convenient packaging and affordable pricing. AmazonBasics batteries offer great value, lasting as long as major brands at a lower price. Highly recommended. Amazon Basics batteries are affordable, long-lasting, and comparable to name brands, making them a great bulk purchase. AmazonBasics batteries offer great value, long-lasting performance, and reliable quality at a lower price than name brands. AmazonBasics batteries offer great value, lasting as long as name brands at a fraction of the cost. Highly recommended. Amazon Basics batteries are affordable, long-lasting, and comparable to name brands, making them a great value. AmazonBasics batteries are affordable, long-lasting, and comparable to name brands, making them a popular choice for various devices. AmazonBasics batteries offer good performance and value, comparable to name brands, with convenient packaging and reliable delivery. AmazonBasics AA batteries are affordable, long-lasting, and comparable to name brands, with convenient packaging and reliable performance. Affordable, long-lasting batteries with convenient packaging; comparable to name brands. Highly recommended for various household devices. AmazonBasics batteries offer great value, comparable performance to name brands, and are ideal for everyday use. Amazon Basics batteries offer great value, comparable performance to name brands, and convenient packaging at a lower cost. AmazonBasics batteries offer great value, comparable performance to name brands, and are ideal for bulk purchasing. Affordable, long-lasting batteries comparable to name brands; great value for bulk purchase, ideal for various household devices. Affordable, long-lasting batteries comparable to name brands. Great value and performance, with convenient packaging. Highly recommended for frequent use. AmazonBasics batteries offer good value, lasting performance, and affordability, comparable to name brands for everyday use. AmazonBasics AA batteries offer great value, long-lasting performance, and reliable quality at a fraction of name-brand prices. Amazon Basics batteries offer good performance and value, comparable to name brands, with convenient packaging and affordable pricing. Affordable AmazonBasics batteries offer good performance and value, comparable to name brands, but with shorter lifespan. Great value batteries comparable to major brands, with excellent customer service. Slightly shorter lifespan but worth the price. AmazonBasics batteries are affordable, reliable, and comparable to name brands, offering great value and performance for various devices.\n",
            "\n",
            "Topic 1 Summary: The review praises Amazon Basics for their affordability, reliability, and value, recommending them for various household needs. The Kindle Voyage offers excellent screen quality, lightweight design, and great battery life, but is pricey compared to Paperwhite. The Kindle Voyage is lightweight, compact, with excellent backlighting and screen resolution, ideal for reading anywhere. The Kindle Voyage is lightweight, easy to read, and has excellent features, but is expensive and has some usability issues. The Kindle Voyage is praised for its auto-brightness, page-turn buttons, and sleek design, despite connectivity issues. The Kindle Fire 8 is praised for its ease of use, features, and excellent value for reading and entertainment. The Kindle Fire HD8 is a versatile, affordable, and user-friendly tablet, ideal for avid readers and multimedia use. Lightweight Kindle with great resolution and performance, perfect for reading and travel. Highly recommended, versatile, and affordable. The Kindle HD8 is praised for its lightweight design, ease of use, and excellent reading experience, despite lacking backlight. Great starter eReader, lightweight, long battery life, easy to use, but lacks LED lights for reading in the dark. The Kindle Fire is praised for its versatility, ease of use, and excellent reading features, despite minor durability concerns.\n",
            "\n",
            "Topic 2 Summary: The review praises the Amazon Echo for its sound quality, versatility, and usefulness, despite some setup challenges. Amazon Tap is a portable Bluetooth speaker with Alexa, offering great sound and features, but lacks Google Play Music support. The Amazon Tap is a portable speaker with decent sound, Alexa capabilities, and good battery life, but requires manual activation. The Amazon Tap is a portable Alexa-enabled speaker with good sound, but lacks bass and always-on voice activation. The Amazon Tap is a portable, affordable Alexa device with excellent sound, but lacks hands-free voice activation. The Fire HD 8 tablet is praised for its affordability, Alexa integration, sound quality, and ease of use. Affordable Kindle with great features, loved by family; some issues with Alexa functionality, but overall a satisfying purchase.\n",
            "\n",
            "Topic 3 Summary: The tablet is ideal for kids, offering educational apps, durability, parental controls, and affordability. The Kindle Fire tablet is a durable, budget-friendly device perfect for young children, offering educational apps and parental controls. The tablet is affordable, child-friendly, durable, with educational apps, but has poor camera quality and occasional performance issues. Durable, kid-friendly tablet with educational apps, parental controls, and great value. Ideal for children aged 1-8. The tablet is budget-friendly, durable, kid-friendly, with great parental controls, but may require additional storage.\n",
            "\n",
            "Topic 4 Summary: Affordable, good quality, comparable to name brands, and long-lasting; highly recommended for the price. Affordable batteries with good performance, comparable to name brands. Long-lasting, well-packaged, and a great value for money. Highly recommend; works great and meets expectations. Comparable price to Amazon after reading reviews and comparing products.\n",
            "\n",
            "Topic 5 Summary: Amazon Basics batteries offer comparable performance to Duracell and Energizer at a significantly lower cost, making them excellent value. AmazonBasics batteries offer comparable performance to Duracell and Energizer at a significantly lower price, making them a great value. Amazon Basics batteries offer great value, lasting nearly as long as Duracell at a fraction of the cost. Amazon batteries offer great value, lasting nearly as long as Duracell at a fraction of the cost. Highly recommended.\n",
            "\n",
            "Topic 6 Summary: Affordable Amazon tablet with good performance, ideal for kids and travel; limited app store and charging issues noted. Affordable, durable tablet ideal for kids; great for reading, games, and travel. Some issues with app speed and charger. Affordable tablet with many apps, durable case, easy to use, great for kids, but battery life could be better.\n",
            "\n",
            "Topic 7 Summary: Highly recommended product, user-friendly, durable, great value for money, no issues, perfect for kids and gifts.\n",
            "\n"
          ]
        }
      ]
    }
  ]
}
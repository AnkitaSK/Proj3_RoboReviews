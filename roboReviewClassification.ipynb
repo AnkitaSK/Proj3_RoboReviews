{
  "cells": [
    {
      "cell_type": "code",
      "source": [
        "#!pip install polars"
      ],
      "metadata": {
        "id": "LgwrFdL63N_m"
      },
      "execution_count": 4,
      "outputs": []
    },
    {
      "cell_type": "code",
      "execution_count": 1,
      "metadata": {
        "id": "yacFOfSvyxkY"
      },
      "outputs": [],
      "source": [
        "import polars as pl"
      ]
    },
    {
      "cell_type": "code",
      "source": [
        "# Load large CSV file\n",
        "df = pl.read_csv(\"1429_1.csv\")"
      ],
      "metadata": {
        "id": "ciaDp6lp3TMV"
      },
      "execution_count": 2,
      "outputs": []
    },
    {
      "cell_type": "code",
      "source": [
        "print(df.head())  # Preview the first 5 rows\n",
        "print(df.shape)"
      ],
      "metadata": {
        "id": "2K2yb6793Yf8",
        "outputId": "4f3bf330-d0a3-4d2f-a33a-3a0e8178c0fb",
        "colab": {
          "base_uri": "https://localhost:8080/"
        }
      },
      "execution_count": 3,
      "outputs": [
        {
          "output_type": "stream",
          "name": "stdout",
          "text": [
            "shape: (5, 21)\n",
            "┌────────────┬────────────┬───────────┬────────┬───┬───────────┬───────────┬───────────┬───────────┐\n",
            "│ id         ┆ name       ┆ asins     ┆ brand  ┆ … ┆ reviews.t ┆ reviews.u ┆ reviews.u ┆ reviews.u │\n",
            "│ ---        ┆ ---        ┆ ---       ┆ ---    ┆   ┆ itle      ┆ serCity   ┆ serProvin ┆ sername   │\n",
            "│ str        ┆ str        ┆ str       ┆ str    ┆   ┆ ---       ┆ ---       ┆ ce        ┆ ---       │\n",
            "│            ┆            ┆           ┆        ┆   ┆ str       ┆ str       ┆ ---       ┆ str       │\n",
            "│            ┆            ┆           ┆        ┆   ┆           ┆           ┆ str       ┆           │\n",
            "╞════════════╪════════════╪═══════════╪════════╪═══╪═══════════╪═══════════╪═══════════╪═══════════╡\n",
            "│ AVqkIhwDv8 ┆ All-New    ┆ B01AHB9CN ┆ Amazon ┆ … ┆ Kindle    ┆ null      ┆ null      ┆ Adapter   │\n",
            "│ e3D1O-lebb ┆ Fire HD 8  ┆ 2         ┆        ┆   ┆           ┆           ┆           ┆           │\n",
            "│            ┆ Tablet, 8  ┆           ┆        ┆   ┆           ┆           ┆           ┆           │\n",
            "│            ┆ HD…        ┆           ┆        ┆   ┆           ┆           ┆           ┆           │\n",
            "│ AVqkIhwDv8 ┆ All-New    ┆ B01AHB9CN ┆ Amazon ┆ … ┆ very fast ┆ null      ┆ null      ┆ truman    │\n",
            "│ e3D1O-lebb ┆ Fire HD 8  ┆ 2         ┆        ┆   ┆           ┆           ┆           ┆           │\n",
            "│            ┆ Tablet, 8  ┆           ┆        ┆   ┆           ┆           ┆           ┆           │\n",
            "│            ┆ HD…        ┆           ┆        ┆   ┆           ┆           ┆           ┆           │\n",
            "│ AVqkIhwDv8 ┆ All-New    ┆ B01AHB9CN ┆ Amazon ┆ … ┆ Beginner  ┆ null      ┆ null      ┆ DaveZ     │\n",
            "│ e3D1O-lebb ┆ Fire HD 8  ┆ 2         ┆        ┆   ┆ tablet    ┆           ┆           ┆           │\n",
            "│            ┆ Tablet, 8  ┆           ┆        ┆   ┆ for our 9 ┆           ┆           ┆           │\n",
            "│            ┆ HD…        ┆           ┆        ┆   ┆ year…     ┆           ┆           ┆           │\n",
            "│ AVqkIhwDv8 ┆ All-New    ┆ B01AHB9CN ┆ Amazon ┆ … ┆ Good!!!   ┆ null      ┆ null      ┆ Shacks    │\n",
            "│ e3D1O-lebb ┆ Fire HD 8  ┆ 2         ┆        ┆   ┆           ┆           ┆           ┆           │\n",
            "│            ┆ Tablet, 8  ┆           ┆        ┆   ┆           ┆           ┆           ┆           │\n",
            "│            ┆ HD…        ┆           ┆        ┆   ┆           ┆           ┆           ┆           │\n",
            "│ AVqkIhwDv8 ┆ All-New    ┆ B01AHB9CN ┆ Amazon ┆ … ┆ Fantastic ┆ null      ┆ null      ┆ explore42 │\n",
            "│ e3D1O-lebb ┆ Fire HD 8  ┆ 2         ┆        ┆   ┆ Tablet    ┆           ┆           ┆           │\n",
            "│            ┆ Tablet, 8  ┆           ┆        ┆   ┆ for kids  ┆           ┆           ┆           │\n",
            "│            ┆ HD…        ┆           ┆        ┆   ┆           ┆           ┆           ┆           │\n",
            "└────────────┴────────────┴───────────┴────────┴───┴───────────┴───────────┴───────────┴───────────┘\n",
            "(34660, 21)\n"
          ]
        }
      ]
    },
    {
      "cell_type": "code",
      "source": [
        "#!pip install transformers torch datasets scikit-learn\n"
      ],
      "metadata": {
        "id": "Nohydpar4BzP"
      },
      "execution_count": 8,
      "outputs": []
    },
    {
      "cell_type": "code",
      "source": [
        "from transformers import BertTokenizer, BertForSequenceClassification"
      ],
      "metadata": {
        "id": "LLT9kliF5675"
      },
      "execution_count": 4,
      "outputs": []
    },
    {
      "cell_type": "code",
      "source": [
        "tokenizer = BertTokenizer.from_pretrained(\"bert-base-uncased\")"
      ],
      "metadata": {
        "id": "X4h9dZ9h5_8s"
      },
      "execution_count": 5,
      "outputs": []
    },
    {
      "cell_type": "code",
      "source": [
        "model = BertForSequenceClassification.from_pretrained(\"bert-base-uncased\", num_labels=3)  # 3 labels: positive, negative, neutral"
      ],
      "metadata": {
        "id": "ugggXtag6PTz",
        "outputId": "0850ba3e-0f89-4cc4-eaa1-c17c744e823d",
        "colab": {
          "base_uri": "https://localhost:8080/"
        }
      },
      "execution_count": 7,
      "outputs": [
        {
          "output_type": "stream",
          "name": "stderr",
          "text": [
            "Some weights of BertForSequenceClassification were not initialized from the model checkpoint at bert-base-uncased and are newly initialized: ['classifier.bias', 'classifier.weight']\n",
            "You should probably TRAIN this model on a down-stream task to be able to use it for predictions and inference.\n"
          ]
        }
      ]
    },
    {
      "cell_type": "code",
      "source": [
        "df.columns"
      ],
      "metadata": {
        "id": "w_HjarEG7cgG",
        "outputId": "3a164220-35b5-48d3-dabd-8a4a14e6f83b",
        "colab": {
          "base_uri": "https://localhost:8080/"
        }
      },
      "execution_count": 6,
      "outputs": [
        {
          "output_type": "execute_result",
          "data": {
            "text/plain": [
              "['id',\n",
              " 'name',\n",
              " 'asins',\n",
              " 'brand',\n",
              " 'categories',\n",
              " 'keys',\n",
              " 'manufacturer',\n",
              " 'reviews.date',\n",
              " 'reviews.dateAdded',\n",
              " 'reviews.dateSeen',\n",
              " 'reviews.didPurchase',\n",
              " 'reviews.doRecommend',\n",
              " 'reviews.id',\n",
              " 'reviews.numHelpful',\n",
              " 'reviews.rating',\n",
              " 'reviews.sourceURLs',\n",
              " 'reviews.text',\n",
              " 'reviews.title',\n",
              " 'reviews.userCity',\n",
              " 'reviews.userProvince',\n",
              " 'reviews.username']"
            ]
          },
          "metadata": {},
          "execution_count": 6
        }
      ]
    },
    {
      "cell_type": "code",
      "source": [
        "def preprocess(reviews):\n",
        "  return tokenizer(\n",
        "      reviews,\n",
        "      padding=True,\n",
        "      truncation=True,\n",
        "      max_length=128,\n",
        "      return_tensors=\"pt\"\n",
        "      )"
      ],
      "metadata": {
        "id": "JhtDtaZj70-1"
      },
      "execution_count": 8,
      "outputs": []
    },
    {
      "cell_type": "code",
      "source": [
        "reviews_text_list = [\n",
        "    'This product so far has not disappointed. My children love to use it and I like the ability to monitor control what content they see with ease.',\n",
        "    'great for beginner or experienced person. Bought as a gift and she loves it',\n",
        "    'Inexpensive tablet for him to use and learn on, step up from the NABI. He was thrilled with it, learn how to Skype on it already...',\n",
        "    \"I've had my Fire HD 8 two weeks now and I love it. This tablet is a great value.We are Prime Members and that is where this tablet SHINES. I love being able to easily access all of the Prime content as well as movies you can download and watch laterThis has a 1280/800 screen which has some really nice look to it its nice and crisp and very bright infact it is brighter then the ipad pro costing $900 base model. The build on this fire is INSANELY AWESOME running at only 7.7mm thick and the smooth glossy feel on the back it is really amazing to hold its like the futuristic tab in ur hands.\",\n",
        "    'I bought this for my grand daughter when she comes over to visit. I set it up with her as the user, entered her age and name and now Amazon makes sure that she only accesses sites and content that are appropriate to her age. Simple to do and she loves the capabilities. I also bought and installed a 64gig SD card which gives this little tablet plenty of storage. For the price I think this tablet is best one out there. You can spend hundreds of dollars more for additional speed and capacity but when it comes to the basics this tablets does everything that most people will ever need at a fraction of the cost.'\n",
        "]\n",
        "# reviews_text = df[\"reviews.text\"]\n",
        "# reviews_text_list = [review for review in reviews_text if review is not None]\n",
        "print(reviews_text_list)"
      ],
      "metadata": {
        "id": "fcPD9LuU83wK",
        "outputId": "3bc61394-c063-4f48-8dfb-8b083cd2d972",
        "colab": {
          "base_uri": "https://localhost:8080/"
        }
      },
      "execution_count": 9,
      "outputs": [
        {
          "output_type": "stream",
          "name": "stdout",
          "text": [
            "['This product so far has not disappointed. My children love to use it and I like the ability to monitor control what content they see with ease.', 'great for beginner or experienced person. Bought as a gift and she loves it', 'Inexpensive tablet for him to use and learn on, step up from the NABI. He was thrilled with it, learn how to Skype on it already...', \"I've had my Fire HD 8 two weeks now and I love it. This tablet is a great value.We are Prime Members and that is where this tablet SHINES. I love being able to easily access all of the Prime content as well as movies you can download and watch laterThis has a 1280/800 screen which has some really nice look to it its nice and crisp and very bright infact it is brighter then the ipad pro costing $900 base model. The build on this fire is INSANELY AWESOME running at only 7.7mm thick and the smooth glossy feel on the back it is really amazing to hold its like the futuristic tab in ur hands.\", 'I bought this for my grand daughter when she comes over to visit. I set it up with her as the user, entered her age and name and now Amazon makes sure that she only accesses sites and content that are appropriate to her age. Simple to do and she loves the capabilities. I also bought and installed a 64gig SD card which gives this little tablet plenty of storage. For the price I think this tablet is best one out there. You can spend hundreds of dollars more for additional speed and capacity but when it comes to the basics this tablets does everything that most people will ever need at a fraction of the cost.']\n"
          ]
        }
      ]
    },
    {
      "cell_type": "code",
      "source": [
        "# test = reviews_text_list[3100:3200]\n",
        "# print(test)\n",
        "#print(len(test))"
      ],
      "metadata": {
        "id": "8t9NWrJZEb85"
      },
      "execution_count": 15,
      "outputs": []
    },
    {
      "cell_type": "code",
      "source": [
        "# print(type(test))\n",
        "# print(type(test[0]))"
      ],
      "metadata": {
        "id": "RbysKmzIFu_t"
      },
      "execution_count": 16,
      "outputs": []
    },
    {
      "cell_type": "code",
      "source": [
        "inputs = preprocess(reviews_text_list)"
      ],
      "metadata": {
        "id": "Mu6Yf7e-8IRv"
      },
      "execution_count": 10,
      "outputs": []
    },
    {
      "cell_type": "markdown",
      "source": [
        "### Make predictions"
      ],
      "metadata": {
        "id": "RRevzo7FICMe"
      }
    },
    {
      "cell_type": "code",
      "source": [
        "import torch\n",
        "\n",
        "# forward pass for predictions\n",
        "outputs = model(**inputs)\n",
        "logits = outputs.logits\n",
        "\n",
        "# get predicted class\n",
        "predictedClass = torch.argmax(logits, dim=1)\n",
        "\n",
        "# map classes to labels\n",
        "labels = [\"negative\", \"neutral\", \"positive\"]\n",
        "predictedLabels = [labels[i] for i in predictedClass]\n",
        "\n",
        "for review, label in zip(reviews_text_list, predictedLabels):\n",
        "  print(f\"Review: {review}\\nSentiment: {label}\\n\")"
      ],
      "metadata": {
        "id": "GGHCJaqpIBTK",
        "outputId": "a6a02610-8d28-472a-fcf7-6889d58fb962",
        "colab": {
          "base_uri": "https://localhost:8080/"
        }
      },
      "execution_count": 11,
      "outputs": [
        {
          "output_type": "stream",
          "name": "stdout",
          "text": [
            "Review: This product so far has not disappointed. My children love to use it and I like the ability to monitor control what content they see with ease.\n",
            "Sentiment: negative\n",
            "\n",
            "Review: great for beginner or experienced person. Bought as a gift and she loves it\n",
            "Sentiment: neutral\n",
            "\n",
            "Review: Inexpensive tablet for him to use and learn on, step up from the NABI. He was thrilled with it, learn how to Skype on it already...\n",
            "Sentiment: negative\n",
            "\n",
            "Review: I've had my Fire HD 8 two weeks now and I love it. This tablet is a great value.We are Prime Members and that is where this tablet SHINES. I love being able to easily access all of the Prime content as well as movies you can download and watch laterThis has a 1280/800 screen which has some really nice look to it its nice and crisp and very bright infact it is brighter then the ipad pro costing $900 base model. The build on this fire is INSANELY AWESOME running at only 7.7mm thick and the smooth glossy feel on the back it is really amazing to hold its like the futuristic tab in ur hands.\n",
            "Sentiment: negative\n",
            "\n",
            "Review: I bought this for my grand daughter when she comes over to visit. I set it up with her as the user, entered her age and name and now Amazon makes sure that she only accesses sites and content that are appropriate to her age. Simple to do and she loves the capabilities. I also bought and installed a 64gig SD card which gives this little tablet plenty of storage. For the price I think this tablet is best one out there. You can spend hundreds of dollars more for additional speed and capacity but when it comes to the basics this tablets does everything that most people will ever need at a fraction of the cost.\n",
            "Sentiment: negative\n",
            "\n"
          ]
        }
      ]
    },
    {
      "cell_type": "code",
      "source": [],
      "metadata": {
        "id": "tCOuZ2I9Ifal"
      },
      "execution_count": null,
      "outputs": []
    }
  ],
  "metadata": {
    "kernelspec": {
      "display_name": "Python 3",
      "name": "python3"
    },
    "language_info": {
      "name": "python",
      "version": "3.12.4"
    },
    "colab": {
      "provenance": [],
      "machine_shape": "hm",
      "gpuType": "L4"
    },
    "accelerator": "GPU"
  },
  "nbformat": 4,
  "nbformat_minor": 0
}